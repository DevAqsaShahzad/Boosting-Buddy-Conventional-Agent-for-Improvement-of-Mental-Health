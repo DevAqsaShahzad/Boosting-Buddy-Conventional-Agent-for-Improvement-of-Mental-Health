{
  "nbformat": 4,
  "nbformat_minor": 0,
  "metadata": {
    "kernelspec": {
      "display_name": "Python 3",
      "language": "python",
      "name": "python3"
    },
    "language_info": {
      "codemirror_mode": {
        "name": "ipython",
        "version": 3
      },
      "file_extension": ".py",
      "mimetype": "text/x-python",
      "name": "python",
      "nbconvert_exporter": "python",
      "pygments_lexer": "ipython3",
      "version": "3.7.6"
    },
    "colab": {
      "name": "Tokenization.ipynb",
      "provenance": [],
      "include_colab_link": true
    }
  },
  "cells": [
    {
      "cell_type": "markdown",
      "metadata": {
        "id": "view-in-github",
        "colab_type": "text"
      },
      "source": [
        "<a href=\"https://colab.research.google.com/github/DevAqsaShahzad/Boosting-Buddy-Conventional-Agent-for-Improvement-of-Mental-Health/blob/main/Tokenization.ipynb\" target=\"_parent\"><img src=\"https://colab.research.google.com/assets/colab-badge.svg\" alt=\"Open In Colab\"/></a>"
      ]
    },
    {
      "cell_type": "code",
      "metadata": {
        "id": "xElS3QWlweVY",
        "colab": {
          "base_uri": "https://localhost:8080/",
          "height": 69
        },
        "outputId": "88ed799c-f48a-4dc3-d7c8-8ca5cfd52b57"
      },
      "source": [
        "import pandas as pd\n",
        "import numpy as np\n",
        "import nltk\n",
        "import string\n",
        "from nltk.tokenize import word_tokenize\n",
        "from nltk.corpus import stopwords, wordnet\n",
        "from nltk.stem import WordNetLemmatizer\n",
        "nltk.download('punkt')"
      ],
      "execution_count": null,
      "outputs": [
        {
          "output_type": "stream",
          "text": [
            "[nltk_data] Downloading package punkt to /root/nltk_data...\n",
            "[nltk_data]   Unzipping tokenizers/punkt.zip.\n"
          ],
          "name": "stdout"
        },
        {
          "output_type": "execute_result",
          "data": {
            "text/plain": [
              "True"
            ]
          },
          "metadata": {
            "tags": []
          },
          "execution_count": 1
        }
      ]
    },
    {
      "cell_type": "code",
      "metadata": {
        "id": "gtySsCZEweVd",
        "outputId": "174c8a24-338e-48b6-bcf1-8959ceaa0ba3"
      },
      "source": [
        "with open('C:/Users/Pisces Khan/Downloads/RomanUrduDatasetLabelled3Emotions.csv') as f:\n",
        "    df = pd.read_csv(f)\n",
        "df"
      ],
      "execution_count": null,
      "outputs": [
        {
          "output_type": "execute_result",
          "data": {
            "text/html": [
              "<div>\n",
              "<style scoped>\n",
              "    .dataframe tbody tr th:only-of-type {\n",
              "        vertical-align: middle;\n",
              "    }\n",
              "\n",
              "    .dataframe tbody tr th {\n",
              "        vertical-align: top;\n",
              "    }\n",
              "\n",
              "    .dataframe thead th {\n",
              "        text-align: right;\n",
              "    }\n",
              "</style>\n",
              "<table border=\"1\" class=\"dataframe\">\n",
              "  <thead>\n",
              "    <tr style=\"text-align: right;\">\n",
              "      <th></th>\n",
              "      <th>Comment</th>\n",
              "    </tr>\n",
              "  </thead>\n",
              "  <tbody>\n",
              "    <tr>\n",
              "      <th>0</th>\n",
              "      <td>Unusual visit hua mere dost ka jis se me adhe saal se nai mili thi</td>\n",
              "    </tr>\n",
              "    <tr>\n",
              "      <th>1</th>\n",
              "      <td>karebi dost ka  unexpected visit jise ma adhe saal sa nhi dekha tha</td>\n",
              "    </tr>\n",
              "    <tr>\n",
              "      <th>2</th>\n",
              "      <td>Achanak se kareebi dost ki trf gya jis se mile 6 months hogye</td>\n",
              "    </tr>\n",
              "    <tr>\n",
              "      <th>3</th>\n",
              "      <td>eik qareebi dost ka gher yaqeeni tor pe ana jisay mein nay adha saal se nahi dekha tha</td>\n",
              "    </tr>\n",
              "    <tr>\n",
              "      <th>4</th>\n",
              "      <td>Aik karebi dost achanak milny aia jisy me 6 maah se nahi mila</td>\n",
              "    </tr>\n",
              "    <tr>\n",
              "      <th>...</th>\n",
              "      <td>...</td>\n",
              "    </tr>\n",
              "    <tr>\n",
              "      <th>335</th>\n",
              "      <td>Smmer job ka doran,, ksi na bhi mere kaam ka khayal ni kia orr mjhe sab khud seekhna para</td>\n",
              "    </tr>\n",
              "    <tr>\n",
              "      <th>336</th>\n",
              "      <td>meri summer job ny kisi ny bhi mery oopr dehaan ni dia or mjhy khud ko sb seekhna prha</td>\n",
              "    </tr>\n",
              "    <tr>\n",
              "      <th>337</th>\n",
              "      <td>Meri garmio ki nokri mein, khas tor py koi mera khyaal ni rakhta tha aur mjhy sab kuch khud seek...</td>\n",
              "    </tr>\n",
              "    <tr>\n",
              "      <th>338</th>\n",
              "      <td>Meri summer job mein, meri kesi ny madad nahi ki aur mujhe sb kuch khud sekhna para</td>\n",
              "    </tr>\n",
              "    <tr>\n",
              "      <th>339</th>\n",
              "      <td>garmion wali nukari mein mujhe khud hi sb kuch sikhana para or kesi ne khaas meri trf tuwajoh na...</td>\n",
              "    </tr>\n",
              "  </tbody>\n",
              "</table>\n",
              "<p>340 rows × 1 columns</p>\n",
              "</div>"
            ],
            "text/plain": [
              "                                                                                                 Comment\n",
              "0                                     Unusual visit hua mere dost ka jis se me adhe saal se nai mili thi\n",
              "1                                    karebi dost ka  unexpected visit jise ma adhe saal sa nhi dekha tha\n",
              "2                                          Achanak se kareebi dost ki trf gya jis se mile 6 months hogye\n",
              "3                 eik qareebi dost ka gher yaqeeni tor pe ana jisay mein nay adha saal se nahi dekha tha\n",
              "4                                          Aik karebi dost achanak milny aia jisy me 6 maah se nahi mila\n",
              "..                                                                                                   ...\n",
              "335            Smmer job ka doran,, ksi na bhi mere kaam ka khayal ni kia orr mjhe sab khud seekhna para\n",
              "336               meri summer job ny kisi ny bhi mery oopr dehaan ni dia or mjhy khud ko sb seekhna prha\n",
              "337  Meri garmio ki nokri mein, khas tor py koi mera khyaal ni rakhta tha aur mjhy sab kuch khud seek...\n",
              "338                  Meri summer job mein, meri kesi ny madad nahi ki aur mujhe sb kuch khud sekhna para\n",
              "339  garmion wali nukari mein mujhe khud hi sb kuch sikhana para or kesi ne khaas meri trf tuwajoh na...\n",
              "\n",
              "[340 rows x 1 columns]"
            ]
          },
          "metadata": {
            "tags": []
          },
          "execution_count": 73
        }
      ]
    },
    {
      "cell_type": "code",
      "metadata": {
        "id": "wq_8o4kqweVh"
      },
      "source": [
        "rws = df.loc[:, ['Comment']]"
      ],
      "execution_count": null,
      "outputs": []
    },
    {
      "cell_type": "code",
      "metadata": {
        "id": "UM_fIICKweVk",
        "outputId": "972edf9f-ceff-4769-cdd2-2d4638bb6aea"
      },
      "source": [
        "rws['tokenized'] = rws['Comment'].apply(word_tokenize)\n",
        "rws.head()"
      ],
      "execution_count": null,
      "outputs": [
        {
          "output_type": "execute_result",
          "data": {
            "text/html": [
              "<div>\n",
              "<style scoped>\n",
              "    .dataframe tbody tr th:only-of-type {\n",
              "        vertical-align: middle;\n",
              "    }\n",
              "\n",
              "    .dataframe tbody tr th {\n",
              "        vertical-align: top;\n",
              "    }\n",
              "\n",
              "    .dataframe thead th {\n",
              "        text-align: right;\n",
              "    }\n",
              "</style>\n",
              "<table border=\"1\" class=\"dataframe\">\n",
              "  <thead>\n",
              "    <tr style=\"text-align: right;\">\n",
              "      <th></th>\n",
              "      <th>Comment</th>\n",
              "      <th>tokenized</th>\n",
              "    </tr>\n",
              "  </thead>\n",
              "  <tbody>\n",
              "    <tr>\n",
              "      <th>0</th>\n",
              "      <td>Unusual visit hua mere dost ka jis se me adhe saal se nai mili thi</td>\n",
              "      <td>[Unusual, visit, hua, mere, dost, ka, jis, se, me, adhe, saal, se, nai, mili, thi]</td>\n",
              "    </tr>\n",
              "    <tr>\n",
              "      <th>1</th>\n",
              "      <td>karebi dost ka  unexpected visit jise ma adhe saal sa nhi dekha tha</td>\n",
              "      <td>[karebi, dost, ka, unexpected, visit, jise, ma, adhe, saal, sa, nhi, dekha, tha]</td>\n",
              "    </tr>\n",
              "    <tr>\n",
              "      <th>2</th>\n",
              "      <td>Achanak se kareebi dost ki trf gya jis se mile 6 months hogye</td>\n",
              "      <td>[Achanak, se, kareebi, dost, ki, trf, gya, jis, se, mile, 6, months, hogye]</td>\n",
              "    </tr>\n",
              "    <tr>\n",
              "      <th>3</th>\n",
              "      <td>eik qareebi dost ka gher yaqeeni tor pe ana jisay mein nay adha saal se nahi dekha tha</td>\n",
              "      <td>[eik, qareebi, dost, ka, gher, yaqeeni, tor, pe, ana, jisay, mein, nay, adha, saal, se, nahi, de...</td>\n",
              "    </tr>\n",
              "    <tr>\n",
              "      <th>4</th>\n",
              "      <td>Aik karebi dost achanak milny aia jisy me 6 maah se nahi mila</td>\n",
              "      <td>[Aik, karebi, dost, achanak, milny, aia, jisy, me, 6, maah, se, nahi, mila]</td>\n",
              "    </tr>\n",
              "  </tbody>\n",
              "</table>\n",
              "</div>"
            ],
            "text/plain": [
              "                                                                                  Comment  \\\n",
              "0                      Unusual visit hua mere dost ka jis se me adhe saal se nai mili thi   \n",
              "1                     karebi dost ka  unexpected visit jise ma adhe saal sa nhi dekha tha   \n",
              "2                           Achanak se kareebi dost ki trf gya jis se mile 6 months hogye   \n",
              "3  eik qareebi dost ka gher yaqeeni tor pe ana jisay mein nay adha saal se nahi dekha tha   \n",
              "4                           Aik karebi dost achanak milny aia jisy me 6 maah se nahi mila   \n",
              "\n",
              "                                                                                             tokenized  \n",
              "0                   [Unusual, visit, hua, mere, dost, ka, jis, se, me, adhe, saal, se, nai, mili, thi]  \n",
              "1                     [karebi, dost, ka, unexpected, visit, jise, ma, adhe, saal, sa, nhi, dekha, tha]  \n",
              "2                          [Achanak, se, kareebi, dost, ki, trf, gya, jis, se, mile, 6, months, hogye]  \n",
              "3  [eik, qareebi, dost, ka, gher, yaqeeni, tor, pe, ana, jisay, mein, nay, adha, saal, se, nahi, de...  \n",
              "4                          [Aik, karebi, dost, achanak, milny, aia, jisy, me, 6, maah, se, nahi, mila]  "
            ]
          },
          "metadata": {
            "tags": []
          },
          "execution_count": 75
        }
      ]
    },
    {
      "cell_type": "code",
      "metadata": {
        "id": "-_OWbvDhweVn",
        "outputId": "ebe1f081-ae9b-47ec-9bd0-d3f24cfee8e1"
      },
      "source": [
        "rws['lower'] = rws['tokenized'].apply(lambda x: [word.lower() for word in x])\n",
        "rws.head()"
      ],
      "execution_count": null,
      "outputs": [
        {
          "output_type": "execute_result",
          "data": {
            "text/html": [
              "<div>\n",
              "<style scoped>\n",
              "    .dataframe tbody tr th:only-of-type {\n",
              "        vertical-align: middle;\n",
              "    }\n",
              "\n",
              "    .dataframe tbody tr th {\n",
              "        vertical-align: top;\n",
              "    }\n",
              "\n",
              "    .dataframe thead th {\n",
              "        text-align: right;\n",
              "    }\n",
              "</style>\n",
              "<table border=\"1\" class=\"dataframe\">\n",
              "  <thead>\n",
              "    <tr style=\"text-align: right;\">\n",
              "      <th></th>\n",
              "      <th>Comment</th>\n",
              "      <th>tokenized</th>\n",
              "      <th>lower</th>\n",
              "    </tr>\n",
              "  </thead>\n",
              "  <tbody>\n",
              "    <tr>\n",
              "      <th>0</th>\n",
              "      <td>Unusual visit hua mere dost ka jis se me adhe saal se nai mili thi</td>\n",
              "      <td>[Unusual, visit, hua, mere, dost, ka, jis, se, me, adhe, saal, se, nai, mili, thi]</td>\n",
              "      <td>[unusual, visit, hua, mere, dost, ka, jis, se, me, adhe, saal, se, nai, mili, thi]</td>\n",
              "    </tr>\n",
              "    <tr>\n",
              "      <th>1</th>\n",
              "      <td>karebi dost ka  unexpected visit jise ma adhe saal sa nhi dekha tha</td>\n",
              "      <td>[karebi, dost, ka, unexpected, visit, jise, ma, adhe, saal, sa, nhi, dekha, tha]</td>\n",
              "      <td>[karebi, dost, ka, unexpected, visit, jise, ma, adhe, saal, sa, nhi, dekha, tha]</td>\n",
              "    </tr>\n",
              "    <tr>\n",
              "      <th>2</th>\n",
              "      <td>Achanak se kareebi dost ki trf gya jis se mile 6 months hogye</td>\n",
              "      <td>[Achanak, se, kareebi, dost, ki, trf, gya, jis, se, mile, 6, months, hogye]</td>\n",
              "      <td>[achanak, se, kareebi, dost, ki, trf, gya, jis, se, mile, 6, months, hogye]</td>\n",
              "    </tr>\n",
              "    <tr>\n",
              "      <th>3</th>\n",
              "      <td>eik qareebi dost ka gher yaqeeni tor pe ana jisay mein nay adha saal se nahi dekha tha</td>\n",
              "      <td>[eik, qareebi, dost, ka, gher, yaqeeni, tor, pe, ana, jisay, mein, nay, adha, saal, se, nahi, de...</td>\n",
              "      <td>[eik, qareebi, dost, ka, gher, yaqeeni, tor, pe, ana, jisay, mein, nay, adha, saal, se, nahi, de...</td>\n",
              "    </tr>\n",
              "    <tr>\n",
              "      <th>4</th>\n",
              "      <td>Aik karebi dost achanak milny aia jisy me 6 maah se nahi mila</td>\n",
              "      <td>[Aik, karebi, dost, achanak, milny, aia, jisy, me, 6, maah, se, nahi, mila]</td>\n",
              "      <td>[aik, karebi, dost, achanak, milny, aia, jisy, me, 6, maah, se, nahi, mila]</td>\n",
              "    </tr>\n",
              "  </tbody>\n",
              "</table>\n",
              "</div>"
            ],
            "text/plain": [
              "                                                                                  Comment  \\\n",
              "0                      Unusual visit hua mere dost ka jis se me adhe saal se nai mili thi   \n",
              "1                     karebi dost ka  unexpected visit jise ma adhe saal sa nhi dekha tha   \n",
              "2                           Achanak se kareebi dost ki trf gya jis se mile 6 months hogye   \n",
              "3  eik qareebi dost ka gher yaqeeni tor pe ana jisay mein nay adha saal se nahi dekha tha   \n",
              "4                           Aik karebi dost achanak milny aia jisy me 6 maah se nahi mila   \n",
              "\n",
              "                                                                                             tokenized  \\\n",
              "0                   [Unusual, visit, hua, mere, dost, ka, jis, se, me, adhe, saal, se, nai, mili, thi]   \n",
              "1                     [karebi, dost, ka, unexpected, visit, jise, ma, adhe, saal, sa, nhi, dekha, tha]   \n",
              "2                          [Achanak, se, kareebi, dost, ki, trf, gya, jis, se, mile, 6, months, hogye]   \n",
              "3  [eik, qareebi, dost, ka, gher, yaqeeni, tor, pe, ana, jisay, mein, nay, adha, saal, se, nahi, de...   \n",
              "4                          [Aik, karebi, dost, achanak, milny, aia, jisy, me, 6, maah, se, nahi, mila]   \n",
              "\n",
              "                                                                                                 lower  \n",
              "0                   [unusual, visit, hua, mere, dost, ka, jis, se, me, adhe, saal, se, nai, mili, thi]  \n",
              "1                     [karebi, dost, ka, unexpected, visit, jise, ma, adhe, saal, sa, nhi, dekha, tha]  \n",
              "2                          [achanak, se, kareebi, dost, ki, trf, gya, jis, se, mile, 6, months, hogye]  \n",
              "3  [eik, qareebi, dost, ka, gher, yaqeeni, tor, pe, ana, jisay, mein, nay, adha, saal, se, nahi, de...  \n",
              "4                          [aik, karebi, dost, achanak, milny, aia, jisy, me, 6, maah, se, nahi, mila]  "
            ]
          },
          "metadata": {
            "tags": []
          },
          "execution_count": 76
        }
      ]
    },
    {
      "cell_type": "code",
      "metadata": {
        "id": "ez8sbIL4weVq",
        "outputId": "9bb39b41-10c7-4142-f896-954b1bdd8c97"
      },
      "source": [
        "punc = string.punctuation\n",
        "rws['no_punc'] = rws['lower'].apply(lambda x: [word for word in x if word not in punc])\n",
        "rws.head()"
      ],
      "execution_count": null,
      "outputs": [
        {
          "output_type": "execute_result",
          "data": {
            "text/html": [
              "<div>\n",
              "<style scoped>\n",
              "    .dataframe tbody tr th:only-of-type {\n",
              "        vertical-align: middle;\n",
              "    }\n",
              "\n",
              "    .dataframe tbody tr th {\n",
              "        vertical-align: top;\n",
              "    }\n",
              "\n",
              "    .dataframe thead th {\n",
              "        text-align: right;\n",
              "    }\n",
              "</style>\n",
              "<table border=\"1\" class=\"dataframe\">\n",
              "  <thead>\n",
              "    <tr style=\"text-align: right;\">\n",
              "      <th></th>\n",
              "      <th>Comment</th>\n",
              "      <th>tokenized</th>\n",
              "      <th>lower</th>\n",
              "      <th>no_punc</th>\n",
              "    </tr>\n",
              "  </thead>\n",
              "  <tbody>\n",
              "    <tr>\n",
              "      <th>0</th>\n",
              "      <td>Unusual visit hua mere dost ka jis se me adhe saal se nai mili thi</td>\n",
              "      <td>[Unusual, visit, hua, mere, dost, ka, jis, se, me, adhe, saal, se, nai, mili, thi]</td>\n",
              "      <td>[unusual, visit, hua, mere, dost, ka, jis, se, me, adhe, saal, se, nai, mili, thi]</td>\n",
              "      <td>[unusual, visit, hua, mere, dost, ka, jis, se, me, adhe, saal, se, nai, mili, thi]</td>\n",
              "    </tr>\n",
              "    <tr>\n",
              "      <th>1</th>\n",
              "      <td>karebi dost ka  unexpected visit jise ma adhe saal sa nhi dekha tha</td>\n",
              "      <td>[karebi, dost, ka, unexpected, visit, jise, ma, adhe, saal, sa, nhi, dekha, tha]</td>\n",
              "      <td>[karebi, dost, ka, unexpected, visit, jise, ma, adhe, saal, sa, nhi, dekha, tha]</td>\n",
              "      <td>[karebi, dost, ka, unexpected, visit, jise, ma, adhe, saal, sa, nhi, dekha, tha]</td>\n",
              "    </tr>\n",
              "    <tr>\n",
              "      <th>2</th>\n",
              "      <td>Achanak se kareebi dost ki trf gya jis se mile 6 months hogye</td>\n",
              "      <td>[Achanak, se, kareebi, dost, ki, trf, gya, jis, se, mile, 6, months, hogye]</td>\n",
              "      <td>[achanak, se, kareebi, dost, ki, trf, gya, jis, se, mile, 6, months, hogye]</td>\n",
              "      <td>[achanak, se, kareebi, dost, ki, trf, gya, jis, se, mile, 6, months, hogye]</td>\n",
              "    </tr>\n",
              "    <tr>\n",
              "      <th>3</th>\n",
              "      <td>eik qareebi dost ka gher yaqeeni tor pe ana jisay mein nay adha saal se nahi dekha tha</td>\n",
              "      <td>[eik, qareebi, dost, ka, gher, yaqeeni, tor, pe, ana, jisay, mein, nay, adha, saal, se, nahi, de...</td>\n",
              "      <td>[eik, qareebi, dost, ka, gher, yaqeeni, tor, pe, ana, jisay, mein, nay, adha, saal, se, nahi, de...</td>\n",
              "      <td>[eik, qareebi, dost, ka, gher, yaqeeni, tor, pe, ana, jisay, mein, nay, adha, saal, se, nahi, de...</td>\n",
              "    </tr>\n",
              "    <tr>\n",
              "      <th>4</th>\n",
              "      <td>Aik karebi dost achanak milny aia jisy me 6 maah se nahi mila</td>\n",
              "      <td>[Aik, karebi, dost, achanak, milny, aia, jisy, me, 6, maah, se, nahi, mila]</td>\n",
              "      <td>[aik, karebi, dost, achanak, milny, aia, jisy, me, 6, maah, se, nahi, mila]</td>\n",
              "      <td>[aik, karebi, dost, achanak, milny, aia, jisy, me, 6, maah, se, nahi, mila]</td>\n",
              "    </tr>\n",
              "  </tbody>\n",
              "</table>\n",
              "</div>"
            ],
            "text/plain": [
              "                                                                                  Comment  \\\n",
              "0                      Unusual visit hua mere dost ka jis se me adhe saal se nai mili thi   \n",
              "1                     karebi dost ka  unexpected visit jise ma adhe saal sa nhi dekha tha   \n",
              "2                           Achanak se kareebi dost ki trf gya jis se mile 6 months hogye   \n",
              "3  eik qareebi dost ka gher yaqeeni tor pe ana jisay mein nay adha saal se nahi dekha tha   \n",
              "4                           Aik karebi dost achanak milny aia jisy me 6 maah se nahi mila   \n",
              "\n",
              "                                                                                             tokenized  \\\n",
              "0                   [Unusual, visit, hua, mere, dost, ka, jis, se, me, adhe, saal, se, nai, mili, thi]   \n",
              "1                     [karebi, dost, ka, unexpected, visit, jise, ma, adhe, saal, sa, nhi, dekha, tha]   \n",
              "2                          [Achanak, se, kareebi, dost, ki, trf, gya, jis, se, mile, 6, months, hogye]   \n",
              "3  [eik, qareebi, dost, ka, gher, yaqeeni, tor, pe, ana, jisay, mein, nay, adha, saal, se, nahi, de...   \n",
              "4                          [Aik, karebi, dost, achanak, milny, aia, jisy, me, 6, maah, se, nahi, mila]   \n",
              "\n",
              "                                                                                                 lower  \\\n",
              "0                   [unusual, visit, hua, mere, dost, ka, jis, se, me, adhe, saal, se, nai, mili, thi]   \n",
              "1                     [karebi, dost, ka, unexpected, visit, jise, ma, adhe, saal, sa, nhi, dekha, tha]   \n",
              "2                          [achanak, se, kareebi, dost, ki, trf, gya, jis, se, mile, 6, months, hogye]   \n",
              "3  [eik, qareebi, dost, ka, gher, yaqeeni, tor, pe, ana, jisay, mein, nay, adha, saal, se, nahi, de...   \n",
              "4                          [aik, karebi, dost, achanak, milny, aia, jisy, me, 6, maah, se, nahi, mila]   \n",
              "\n",
              "                                                                                               no_punc  \n",
              "0                   [unusual, visit, hua, mere, dost, ka, jis, se, me, adhe, saal, se, nai, mili, thi]  \n",
              "1                     [karebi, dost, ka, unexpected, visit, jise, ma, adhe, saal, sa, nhi, dekha, tha]  \n",
              "2                          [achanak, se, kareebi, dost, ki, trf, gya, jis, se, mile, 6, months, hogye]  \n",
              "3  [eik, qareebi, dost, ka, gher, yaqeeni, tor, pe, ana, jisay, mein, nay, adha, saal, se, nahi, de...  \n",
              "4                          [aik, karebi, dost, achanak, milny, aia, jisy, me, 6, maah, se, nahi, mila]  "
            ]
          },
          "metadata": {
            "tags": []
          },
          "execution_count": 77
        }
      ]
    },
    {
      "cell_type": "code",
      "metadata": {
        "id": "f6fenTBmweVt"
      },
      "source": [
        ""
      ],
      "execution_count": null,
      "outputs": []
    }
  ]
}