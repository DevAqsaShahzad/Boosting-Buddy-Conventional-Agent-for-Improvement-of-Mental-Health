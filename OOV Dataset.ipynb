{
 "cells": [
  {
   "cell_type": "code",
   "execution_count": 242,
   "metadata": {},
   "outputs": [],
   "source": [
    "import nltk"
   ]
  },
  {
   "cell_type": "code",
   "execution_count": 243,
   "metadata": {},
   "outputs": [],
   "source": [
    "import pandas as pd\n",
    "import os\n"
   ]
  },
  {
   "cell_type": "code",
   "execution_count": 244,
   "metadata": {},
   "outputs": [
    {
     "data": {
      "text/plain": [
       "'C:\\\\Users\\\\Pisces Khan'"
      ]
     },
     "execution_count": 244,
     "metadata": {},
     "output_type": "execute_result"
    }
   ],
   "source": [
    "pwd"
   ]
  },
  {
   "cell_type": "code",
   "execution_count": 245,
   "metadata": {},
   "outputs": [
    {
     "data": {
      "text/html": [
       "<div>\n",
       "<style scoped>\n",
       "    .dataframe tbody tr th:only-of-type {\n",
       "        vertical-align: middle;\n",
       "    }\n",
       "\n",
       "    .dataframe tbody tr th {\n",
       "        vertical-align: top;\n",
       "    }\n",
       "\n",
       "    .dataframe thead th {\n",
       "        text-align: right;\n",
       "    }\n",
       "</style>\n",
       "<table border=\"1\" class=\"dataframe\">\n",
       "  <thead>\n",
       "    <tr style=\"text-align: right;\">\n",
       "      <th></th>\n",
       "      <th>0</th>\n",
       "      <th>1</th>\n",
       "    </tr>\n",
       "  </thead>\n",
       "  <tbody>\n",
       "    <tr>\n",
       "      <th>0</th>\n",
       "      <td>Comment</td>\n",
       "      <td>sentiment</td>\n",
       "    </tr>\n",
       "    <tr>\n",
       "      <th>1</th>\n",
       "      <td>Unusual visit hua mere dost ka jis se me adhe ...</td>\n",
       "      <td>Joy</td>\n",
       "    </tr>\n",
       "    <tr>\n",
       "      <th>2</th>\n",
       "      <td>karebi dost ka  unexpected visit jise ma adhe ...</td>\n",
       "      <td>Joy</td>\n",
       "    </tr>\n",
       "    <tr>\n",
       "      <th>3</th>\n",
       "      <td>Achanak se kareebi dost ki trf gya jis se mile...</td>\n",
       "      <td>Joy</td>\n",
       "    </tr>\n",
       "    <tr>\n",
       "      <th>4</th>\n",
       "      <td>eik qareebi dost ka gher yaqeeni tor pe ana ji...</td>\n",
       "      <td>Joy</td>\n",
       "    </tr>\n",
       "    <tr>\n",
       "      <th>...</th>\n",
       "      <td>...</td>\n",
       "      <td>...</td>\n",
       "    </tr>\n",
       "    <tr>\n",
       "      <th>336</th>\n",
       "      <td>Smmer job ka doran,, ksi na bhi mere kaam ka k...</td>\n",
       "      <td>Anger</td>\n",
       "    </tr>\n",
       "    <tr>\n",
       "      <th>337</th>\n",
       "      <td>meri summer job ny kisi ny bhi mery oopr dehaa...</td>\n",
       "      <td>Anger</td>\n",
       "    </tr>\n",
       "    <tr>\n",
       "      <th>338</th>\n",
       "      <td>Meri garmio ki nokri mein, khas tor py koi mer...</td>\n",
       "      <td>Anger</td>\n",
       "    </tr>\n",
       "    <tr>\n",
       "      <th>339</th>\n",
       "      <td>Meri summer job mein, meri kesi ny madad nahi ...</td>\n",
       "      <td>Anger</td>\n",
       "    </tr>\n",
       "    <tr>\n",
       "      <th>340</th>\n",
       "      <td>garmion wali nukari mein mujhe khud hi sb kuch...</td>\n",
       "      <td>Anger</td>\n",
       "    </tr>\n",
       "  </tbody>\n",
       "</table>\n",
       "<p>341 rows × 2 columns</p>\n",
       "</div>"
      ],
      "text/plain": [
       "                                                     0          1\n",
       "0                                              Comment  sentiment\n",
       "1    Unusual visit hua mere dost ka jis se me adhe ...        Joy\n",
       "2    karebi dost ka  unexpected visit jise ma adhe ...        Joy\n",
       "3    Achanak se kareebi dost ki trf gya jis se mile...        Joy\n",
       "4    eik qareebi dost ka gher yaqeeni tor pe ana ji...        Joy\n",
       "..                                                 ...        ...\n",
       "336  Smmer job ka doran,, ksi na bhi mere kaam ka k...      Anger\n",
       "337  meri summer job ny kisi ny bhi mery oopr dehaa...      Anger\n",
       "338  Meri garmio ki nokri mein, khas tor py koi mer...      Anger\n",
       "339  Meri summer job mein, meri kesi ny madad nahi ...      Anger\n",
       "340  garmion wali nukari mein mujhe khud hi sb kuch...      Anger\n",
       "\n",
       "[341 rows x 2 columns]"
      ]
     },
     "execution_count": 245,
     "metadata": {},
     "output_type": "execute_result"
    }
   ],
   "source": [
    "text = pd.read_csv(r\"C:/Users/Pisces Khan/Downloads/RomanUrduDatasetLabelled3Emotion.csv\", header=None)\n",
    "text"
   ]
  },
  {
   "cell_type": "code",
   "execution_count": 246,
   "metadata": {},
   "outputs": [],
   "source": [
    "corpus=[]\n",
    "for row in text.values:\n",
    "    tokens = row[0].split(\" \")\n",
    "    for token in tokens:\n",
    "        corpus.append(token)"
   ]
  },
  {
   "cell_type": "code",
   "execution_count": 247,
   "metadata": {},
   "outputs": [],
   "source": [
    "#initlialize the vocabulary\n",
    "vocab = list(set(\" \".join(corpus)))\n",
    "vocab.remove(' ')\n",
    "\n",
    "#split the word into characters\n",
    "corpus = [\" \".join(token) for token in corpus]\n",
    "\n",
    "#appending </w>\n",
    "corpus=[token+' </w>' for token in corpus]"
   ]
  },
  {
   "cell_type": "code",
   "execution_count": 248,
   "metadata": {
    "scrolled": true
   },
   "outputs": [
    {
     "name": "stdout",
     "output_type": "stream",
     "text": [
      "Corpus: {'C o m m e n t </w>': 1, 'U n u s u a l </w>': 1, 'v i s i t </w>': 2, 'h u a </w>': 16, 'm e r e </w>': 33, 'd o s t </w>': 19, 'k a </w>': 63, 'j i s </w>': 22, 's e </w>': 48, 'm e </w>': 90, 'a d h e </w>': 3, 's a a l </w>': 6, 'n a i </w>': 20, 'm i l i </w>': 1, 't h i </w>': 39, 'k a r e b i </w>': 2, ' </w>': 19, 'u n e x p e c t e d </w>': 1, 'j i s e </w>': 4, 'm a </w>': 36, 's a </w>': 10, 'n h i </w>': 11, 'd e k h a </w>': 21, 't h a </w>': 85, 'A c h a n a k </w>': 2, 'k a r e e b i </w>': 4, 'k i </w>': 23, 't r f </w>': 3, 'g y a </w>': 17, 'm i l e </w>': 1, '6 </w>': 2, 'm o n t h s </w>': 1, 'h o g y e </w>': 1, 'e i k </w>': 2, 'q a r e e b i </w>': 5, 'g h e r </w>': 3, 'y a q e e n i </w>': 1, 't o r </w>': 2, 'p e </w>': 2, 'a n a </w>': 1, 'j i s a y </w>': 3, 'm e i n </w>': 112, 'n a y </w>': 6, 'a d h a </w>': 1, 'n a h i </w>': 14, 'A i k </w>': 2, 'a c h a n a k </w>': 2, 'm i l n y </w>': 6, 'a i a </w>': 1, 'j i s y </w>': 7, 'm a a h </w>': 1, 'm i l a </w>': 17, 'm e r y </w>': 15, 'a g y a </w>': 1, 's y </w>': 20, 'k a f i </w>': 7, 'd a i r </w>': 5, 'n i </w>': 15, 'k i l a </w>': 1, 'M u j h e </w>': 1, 'e k </w>': 25, 'm i l n e </w>': 7, 'a y a </w>': 6, 'n y </w>': 27, 's a l o n </w>': 1, 'm e r a </w>': 17, 'a a d h y </w>': 2, 'g h a n t y </w>': 1, 'K a a f i </w>': 1, 'u n u s u a l l y </w>': 1, 'a i k </w>': 17, 'b o h u t </w>': 1, 'a c h a </w>': 18, 'm u j h e </w>': 22, 'k o i </w>': 14, 'b d </w>': 5, 'M e i n </w>': 13, 'a p n e </w>': 2, 'k h e r h e </w>': 1, 'k </w>': 105, 'h a n </w>': 1, 'u s e </w>': 2, 'm i l n a </w>': 3, 'g y a . </w>': 1, 'J e s e </w>': 1, 'm e i n e </w>': 1, 'K i s i </w>': 2, 'e s e </w>': 3, 'g a i r </w>': 1, 'm u t w a k a </w>': 1, 'm u l a q a t </w>': 1, 'a d h y </w>': 1, 'n a </w>': 16, 'h o . </w>': 4, 'J i s </w>': 2, 'j o b </w>': 16, 'k e </w>': 21, 'l i y e </w>': 31, 'n e </w>': 34, 'a p p l y </w>': 9, 'k i a </w>': 16, 'u a </w>': 1, 'o f f e r i n g </w>': 1, 'l e t t e r </w>': 9, 'j a b </w>': 33, 's u m m e r </w>': 14, 'p r </w>': 34, 'm a i n e </w>': 8, 'J b b </w>': 3, 'm j y </w>': 4, 'm i l a a </w>': 1, 'j i s k e </w>': 1, 'k i y a </w>': 20, 'm u j h y </w>': 17, 'm </w>': 17, 'm n </w>': 5, 'g a r m i o </w>': 3, 'n o k r i </w>': 2, 'J u b </w>': 11, 'm u j y </w>': 5, 'k h a t </w>': 2, 'j o </w>': 17, 'g a r m i </w>': 1, 'c h u u t t i o u </w>': 1, 'K i a </w>': 2, 'J b </w>': 64, 'm e n e </w>': 13, 'J a b </w>': 34, 'k y </w>': 12, 'j a h a n </w>': 1, 'u s k a </w>': 4, 'm i l </w>': 1, 'n a a </w>': 1, 't o </w>': 6, 'm i l a . </w>': 1, 'm u s a m . e . g a r m a </w>': 1, 'm u l a z m a t </w>': 1, 'p e s h k a s h </w>': 1, 'm o s o o l </w>': 1, 'h o </w>': 20, 'd a r k h u w s a t </w>': 1, 'd i </w>': 6, 't h i . </w>': 3, 'm u j j e </w>': 5, 'a p n i </w>': 6, 's t u d i e s </w>': 2, 'l o a n </w>': 6, 'p a r h a i </w>': 3, 'M i n e </w>': 1, 't a k e n </w>': 1, 'l a s t </w>': 1, 'L i a </w>': 1, 'q a r z a a </w>': 1, 'm i l l s </w>': 1, 'g a </w>': 7, 'p a r h a y i </w>': 1, 'k a r z a </w>': 2, 'p a r a h i </w>': 1, 'l i y a </w>': 6, 'p r h a i </w>': 1, 'k a r z </w>': 1, 'j b </w>': 43, 'a p n y </w>': 2, 's t u d y </w>': 1, 'k e l i y e </w>': 1, 't a l e e m </w>': 1, 'q a r z a </w>': 1, 'm i l e . </w>': 1, 'g i r l f r i e n d </w>': 6, 'a p n a </w>': 5, 'e x a m </w>': 13, 'd e </w>': 4, 'l i a </w>': 6, 'h m </w>': 1, 'u s </w>': 22, 'p a r e n t s </w>': 4, 'g h r </w>': 10, 'g a y e </w>': 8, 'm e r i </w>': 35, 'c h u k i </w>': 1, 't h y </w>': 6, 'h u m </w>': 7, 'u s k e </w>': 4, 'g h a r </w>': 9, 'j b b </w>': 1, 'p a p e r </w>': 5, 'd i y a a </w>': 1, 'p i r </w>': 1, 'h m m m </w>': 1, 'g y e </w>': 4, 'g f </w>': 1, 'b a a d </w>': 9, 'a m m a </w>': 1, 'a b b a </w>': 1, 's e h e l i </w>': 1, 'i m t a h a n </w>': 2, 'D i y a </w>': 1, 't u </w>': 8, 'u n </w>': 1, 'w a l d e e n </w>': 2, 'g a y </w>': 2, 'i m t e h a n </w>': 4, 'd i a </w>': 4, 't o u </w>': 3, 'i s k y </w>': 1, 'm a a </w>': 4, 'b a a p </w>': 1, 'k h a t a m </w>': 1, 'g i r l f r i e n t </w>': 1, 'k o </w>': 35, 'b a c h i </w>': 5, 'd i y a </w>': 7, 's u s r a l </w>': 1, 'i m t e h a a n </w>': 2, 'w a l d e i n </w>': 1, 'g y e . </w>': 2, 'm e h b o o b a </w>': 1, 'd y </w>': 2, 'g y . </w>': 1, 'M e </w>': 5, 'p a s s </w>': 26, 'k r </w>': 25, 'p a t a </w>': 1, 'p e r f o r m </w>': 4, 'w o h </w>': 5, 'j i s m e </w>': 3, 'k i y a a </w>': 1, 'y a q e e n </w>': 1, 't h a a </w>': 1, 'w o </w>': 20, 'k r l i a </w>': 1, 'p e r f r m </w>': 1, 'k y a </w>': 1, 'k a r </w>': 2, 'K i y a </w>': 2, 'u m e e d </w>': 11, 'k r u n g a </w>': 1, 'l a g t a </w>': 1, 's k t a </w>': 2, 'p a a s </w>': 1, 'e x p e c t </w>': 2, 'r h a </w>': 4, 'U s </w>': 1, 'h o n e </w>': 11, 'h i </w>': 10, 'p h i r </w>': 1, 'b h i </w>': 6, 'h o g y a </w>': 1, 'l a g a </w>': 1, 's a i </w>': 1, 't a r a h </w>': 1, 'h a l </w>': 1, 'p a r c h a y </w>': 1, 's a r k h u r u </w>': 1, 'j a o n </w>': 1, 'b a r y </w>': 4, 'm a i n </w>': 6, 's o c h a </w>': 1, 'b e h t e r </w>': 1, 'g a . </w>': 2, 'E x a m </w>': 1, 'k r n a </w>': 4, 'M j y </w>': 1, 'k i i </w>': 1, 'e e i k </w>': 1, 'h o n a </w>': 4, 'p a s s s </w>': 1, 'I m t a h a n </w>': 1, 'J i s k i </w>': 1, 'W o </w>': 1, 'i m t i h a n </w>': 1, 'J i s m e </w>': 1, 'u s m e </w>': 1, 'A s a </w>': 1, 'I m t e h a a n </w>': 1, 'E s e </w>': 1, 'k a m y a b </w>': 1, 'k a m y a b i </w>': 1, 't w a q a </w>': 1, 'b a c h e </w>': 6, 't h e </w>': 7, 'h o w e </w>': 3, 'M e r a </w>': 4, 'B a c h a </w>': 2, 'K a b </w>': 1, 'h o n </w>': 8, 'b a c h a y </w>': 1, 't h e y </w>': 1, 'b a c h a </w>': 20, 'b a c h y </w>': 1, 'p a s </w>': 1, 'h m a r y </w>': 1, 'B a c h e </w>': 1, 'g e </w>': 2, 'p e d a </w>': 3, 'h u w e </w>': 1, 'h o w e . </w>': 1, 'p a i d a </w>': 9, 'h u e </w>': 1, 'h o w a </w>': 7, 'k b </w>': 1, 'h o g a </w>': 1, 'h u w a </w>': 6, 'h o a </w>': 3, 'h m a a r a </w>': 1, 'h o w a . </w>': 2, 's h k s </w>': 1, 'b a r e </w>': 3, 'a r s e </w>': 4, 'n a u </w>': 1, 'b a n d e </w>': 3, 'a d m i </w>': 1, 'd e h k a a </w>': 2, 'u s k o </w>': 3, 'b h t </w>': 1, 'd e e e r </w>': 1, 'b a a t </w>': 2, 'i n s a n </w>': 3, 'k a a f i </w>': 1, 'a r s a y </w>': 1, 'd e e k h a </w>': 1, 'u r s y </w>': 1, 'b n d y </w>': 2, 'j i s k o </w>': 3, 'a r s y </w>': 2, 's h a k s </w>': 2, 'd i n o n </w>': 1, 'M e n e </w>': 2, 'b d i </w>': 1, 'd e r </w>': 5, 's h a k a s </w>': 6, 'a k </w>': 2, 'l a m b y </w>': 1, 'c o u r s e </w>': 8, 'a c c e p t </w>': 4, 'f i n a n c e </w>': 8, 'r </w>': 6, 'a c c o u n t i n g </w>': 9, 'o r </w>': 38, 's e l e c t </w>': 1, 'K b b </w>': 1, 'k a a </w>': 1, 'l o o n </w>': 1, 'g a a </w>': 1, 'f i n n a n c e </w>': 1, 'a n d </w>': 3, 'a c c o u n r t i n g </w>': 1, 'c o u s r e </w>': 1, 'c h u n </w>': 2, 'g i a </w>': 1, 'a u r </w>': 19, 'u t h a y a </w>': 1, 'f i n a n a c e </w>': 1, 'm a n z o o r </w>': 1, 'm u e s h i t </w>': 1, 'm a l i a t </w>': 1, 'n a s a a b </w>': 1, 'q a b o o l </w>': 1, 's a t h </w>': 3, 's a r a k </w>': 6, 'h a d s a </w>': 1, 't r a f f i c </w>': 8, 'a c c i d e n t </w>': 4, 's h i k a r </w>': 7, 'h a a d s e y </w>': 1, 's h i k a a r </w>': 1, 'h a d s y </w>': 3, 'h o i </w>': 3, 'M a </w>': 2, 'k a b </w>': 1, 'h a d s a y </w>': 3, 'm u l a v i s </w>': 2, 'i n v o l v e </w>': 4, 'p h a s </w>': 1, 'k i s i </w>': 33, 'h u i </w>': 2, 'h o i . </w>': 1, 't r a f i i c </w>': 1, 'h a d s e </w>': 1, 's h a m i l </w>': 6, 't h a . </w>': 7, 'a k e l a </w>': 12, 'e k e l a </w>': 1, 'p y </w>': 5, 'a k a l i </w>': 1, 'a k e l i </w>': 7, 't a n h a </w>': 1, 'p a r </w>': 4, 'h r </w>': 2, 'd f a </w>': 4, 's o c h t a </w>': 3, 'h u n </w>': 6, 'p i y a r </w>': 3, 'k r t a </w>': 5, 'y a </w>': 10, 's e r i o u s </w>': 3, 'b i m a r i </w>': 2, 's k t i </w>': 2, 'b e m a r i </w>': 4, 'j a y e </w>': 3, 'H r </w>': 3, 'd a f a </w>': 3, 'i m a g i n e </w>': 1, 'k r t i </w>': 7, 'K e </w>': 1, 'm o h a b a t </w>': 1, 'h u i n </w>': 1, 'j a e </w>': 3, 'y e </w>': 5, 'f e h e m </w>': 1, 'b a a h i r </w>': 1, 'h a </w>': 1, 'b </w>': 5, 's o c h t i </w>': 4, 'm a r y </w>': 1, 'j a n n a y </w>': 1, 'w a l y </w>': 4, 'j i s s y </w>': 1, 'p a y a r </w>': 1, 'b i n a r i </w>': 1, 'k a b s h i k a r </w>': 1, 'j a y </w>': 1, 't u s w a r </w>': 1, 'c h a h t a </w>': 1, 's h a d i d </w>': 2, 'd u k h </w>': 1, 'i z h a r </w>': 1, 's a k u n </w>': 2, 'b a a r </w>': 5, 'y e h </w>': 2, 'h u </w>': 4, 'p y a a r </w>': 1, 'k h t r n a a k </w>': 1, 'c y </w>': 4, 'r a b t a </w>': 1, 'k a r u </w>': 1, 'm j h y </w>': 11, 'k h a y a l </w>': 3, 'a t a </w>': 1, 'p y a r </w>': 2, 'u s y </w>': 2, 'u s k i </w>': 2, 'c o n t a c t </w>': 1, 'k r u </w>': 1, 'c h a n h e </w>': 1, 'w a l e </w>': 7, 'j a n n e </w>': 1, 's h a d e e d </w>': 3, 'b i m a r </w>': 1, 'g y </w>': 2, 'p i y a a r </w>': 1, 'k e r t i </w>': 1, 'b e m a a r i </w>': 1, 'm u b t a l a </w>': 2, 'j a t i </w>': 1, 'm u b t l a </w>': 2, 'h o n . </w>': 1, 'y </w>': 2, 'k s i </w>': 6, 'h n </w>': 4, 's h a d e d </w>': 1, 'p i m a r i </w>': 1, 's o c h a t a </w>': 1, 'k e s i </w>': 10, 'm u h a b a t </w>': 1, 'b e m a a r </w>': 1, 'h o j a t a </w>': 1, 'h a i . </w>': 1, 'p e h l i </w>': 9, 'm o u t </w>': 6, 'm t l b </w>': 5, 'p t a </w>': 4, 'l g a </w>': 1, 'b a r </w>': 4, 'm a r n e </w>': 1, 'm a t l b </w>': 1, 's a m j h </w>': 1, 'p h e l e </w>': 2, 'j a n a </w>': 2, 'w a q t </w>': 1, 'k o n s a </w>': 1, 'j u b </w>': 3, 'm a u t </w>': 2, 'm a a a n i </w>': 1, 'a h s a s </w>': 1, 'p h l i </w>': 1, 'm o t </w>': 2, 'm a t l a b </w>': 3, 'e h s a s </w>': 2, 'd h a </w>': 1, 'm u j h </w>': 6, 'h w a </w>': 1, 'm o a t </w>': 1, 'c h a l a </w>': 2, 'm e a n i n g </w>': 2, 's m j h </w>': 2, 'a y e </w>': 7, 'm j h e y </w>': 1, 's a m a j h </w>': 1, 'm t l a b </w>': 1, 'a y a . </w>': 1, 'P h l i </w>': 1, 'c h l a </w>': 1, 'm o o t </w>': 1, 'w a k i f </w>': 1, 'h u w a . </w>': 1, 'm e e t i n g </w>': 3, 'r a k h y </w>': 1, 'l a t e </w>': 8, 'p u h a n c h y </w>': 3, 'a r r a n g e </w>': 2, 'k r e </w>': 3, 'b a n d a </w>': 3, 'k a r e </w>': 1, 'm u k a a q a a t </w>': 1, 't a a y </w>': 1, 's h a k h s </w>': 2, 'a a e </w>': 1, 'k a h y </w>': 1, 'a a y y </w>': 1, 'm i l n a y </w>': 1, 'a y </w>': 3, 'a i r </w>': 1, 'e h t i m a a m </w>': 1, 'd e i r </w>': 2, 'p h n c h a </w>': 1, 'b n d a </w>': 3, 'p l a n </w>': 2, 'b a n a y e i n </w>': 1, 'a y e . </w>': 3, 'm l n y </w>': 1, 'b n a y </w>': 1, 'd o s r e </w>': 1, 'b a n d o b a s t </w>': 1, 'd o s r a </w>': 1, 'p u h a n c h e . </w>': 1, 'S w e d e n </w>': 3, 'p r a c t i c e </w>': 9, 'd o r a n </w>': 2, 'd r </w>': 3, 'k a r u n g a </w>': 1, 's w e d e n </w>': 8, 'k r n e </w>': 4, 'g a y a </w>': 1, 'k h u f z a d a </w>': 1, 'k r o </w>': 1, 'g a i </w>': 7, 'd r r </w>': 2, 'k a r u i n </w>': 1, 'g i </w>': 2, 't a r b i y a t </w>': 1, 'l i h e </w>': 1, 'k h o f </w>': 2, 'z a d a </w>': 2, 'a c h i </w>': 1, 't r h a </w>': 1, 'p a u </w>': 2, 'c h u t i o n </w>': 1, 's w r d e n </w>': 1, 'c h a t i </w>': 1, 'a c h y </w>': 1, 'p a o n </w>': 1, 'g a r m i y u n </w>': 1, 'k a e </w>': 3, 'd u r a n </w>': 1, 'm a s h k </w>': 1, 'g a r m i y o </w>': 1, 'm e i </w>': 1, 'm a s h q </w>': 1, 'l e a y </w>': 3, 'g a e </w>': 1, 'd a r </w>': 6, 'k u c h </w>': 14, 'k r n y </w>': 4, 'g a r m i y o n </w>': 3, 's o d a n </w>': 1, 't b </w>': 2, 'r a h a </w>': 1, 'k e r n e </w>': 1, 'g a y i </w>': 2, 'k e r </w>': 1, 'r a h i </w>': 5, 'k h o u f z a d a </w>': 1, 'a c h e </w>': 1, 's k t i . </w>': 1, 'M </w>': 1, 'g r m i o </w>': 1, 'k h a u f </w>': 1, 'k r i </w>': 1, 'g a r m e i o n </w>': 1, 'c h a l e </w>': 1, 'k a r o n </w>': 1, 'p a r t y </w>': 7, 'l a r a i </w>': 10, 'b a d </w>': 6, 'p a r n e </w>': 1, 'r i s k </w>': 1, 'L a r a i </w>': 1, 'i n </w>': 1, \"d a ' w a t </w>\": 1, 'j h a g r e y </w>': 1, 'p h a s n e y </w>': 1, 'k h a d s h a </w>': 1, 'w a l i </w>': 8, 'l a r a i i </w>': 2, 'h o n y </w>': 4, 'k h d s h a </w>': 1, 'h o n a y </w>': 1, 'h a d s h a </w>': 1, 'P a r t y </w>': 4, 'j h a g r y </w>': 3, 'k h a t r a </w>': 4, 'l a r h a i </w>': 2, 'P a r t </w>': 1, 'j h a g r e </w>': 1, 'k h t r a . </w>': 1, 'h n y </w>': 3, 'k h a t r a . </w>': 1, 'c h o t a </w>': 3, 'g a r i </w>': 14, 't a k r a n y </w>': 2, 'k a r e e b </w>': 1, 't a k r a t y </w>': 2, 't a q r e b n </w>': 3, 'c a r </w>': 19, 'T a k r </w>': 1, 't a q r e e b a n </w>': 2, 'g a a r i </w>': 6, 't h u k k </w>': 2, 'c h u k a </w>': 3, 'n i c h y </w>': 3, 'a a n y </w>': 2, 'w a l a </w>': 4, 't a k r e b a n </w>': 2, 'n e c h a y </w>': 2, 'g r a </w>': 2, 't h u k n y </w>': 1, 'b a n </w>': 1, 'k n o c k </w>': 2, 't a k r a t e </w>': 2, 'h o y e </w>': 2, 'l a g n e </w>': 2, 'l a g i </w>': 2, 't a k r e e b n </w>': 1, 'i </w>': 1, 't a k r </w>': 3, 'b a c h p a n </w>': 1, 'n e e c h e </w>': 1, 'k u c h a l a </w>': 1, 't a k a r </w>': 2, 'B i l k u l </w>': 1, 'l g n e </w>': 1, 'Q a r e e b </w>': 1, 'e </w>': 5, 'm a a r </w>': 1, 'd e t i </w>': 1, 'G a a r i </w>': 1, 'T a k r e e b n </w>': 1, 'g a r d i </w>': 1, 't k r a n y </w>': 1, 'q a r e e b </w>': 2, 't a k r a </w>': 1, 'j u n g l e </w>': 6, 'j h i n p r i </w>': 1, 'a n d h e r i </w>': 1, 'j g </w>': 1, 'c o t t a g e </w>': 7, 'm e , </w>': 4, 't h o r i </w>': 1, 'a n d h e r a </w>': 1, 'B a r e </w>': 1, 'f o r e s t </w>': 1, 'l i y w </w>': 1, 'b i l k u l </w>': 1, 'e k e l e </w>': 1, 'b a r r e </w>': 1, 'j u n g k e </w>': 1, 'j h o m p r i </w>': 1, 'c h a n d </w>': 1, 'l a m h a a t </w>': 1, 't a a r e e k i </w>': 1, 'i k </w>': 2, ', m a </w>': 1, 'l i a y </w>': 1, 'a n d h a r y </w>': 2, 'a k a i l a </w>': 1, 'G s h s v z h x b x h </w>': 1, 'B a r y </w>': 1, 'j a n g l e </w>': 1, 'k u t y a </w>': 1, 'm e i n , </w>': 3, 'a n d h e r y </w>': 1, 'l a m h y </w>': 1, 'j a n g a l </w>': 1, 'a n d h e r e </w>': 3, 'g h a n e </w>': 1, 'j a n d l o </w>': 1, 'E k </w>': 1, 'A k </w>': 2, 'j u n g l </w>': 1, 'c o t h r i </w>': 1, 'i n d h e r y </w>': 1, 't h o r y </w>': 1, 't i m e </w>': 1, 'l y </w>': 1, 'a n d e r </w>': 1, 'r a a t </w>': 1, 's a m a </w>': 1, 'b h a g n y </w>': 1, 'b u s </w>': 11, 'c h o t </w>': 2, 'p e c h a </w>': 1, 'k r t y </w>': 6, 'h u a y </w>': 1, 'm i s s </w>': 5, 'k r d i a </w>': 1, 'p i c h a y </w>': 1, 'b h a g n a y </w>': 1, 'b a w a j o o d </w>': 5, 'c h o o t </w>': 1, 'p e e c h e </w>': 2, 'b a g h n e </w>': 1, 'b h a g n e </w>': 1, 'c h o o t i </w>': 1, 'm j j e </w>': 1, 'b h a g n a a </w>': 1, 'p a r a </w>': 7, 'p e e c h y </w>': 2, 'b h a a g n y </w>': 2, 'd o r t e </w>': 1, 'd o r r </w>': 1, 'l a g a n e </w>': 1, 'j h o o t </w>': 1, 'g y i . </w>': 1, 'k h a n d a n </w>': 2, 'K h a n d a a n </w>': 1, 'K h a a n d a n </w>': 1, 'K h a n d a n </w>': 1, 'f a m i l y </w>': 1, 'G h a r e l u u </w>': 1, 'j h a g r a y </w>': 1, 'k h a n d a a n </w>': 1, 'F a m i l y </w>': 2, 'j h a g r a </w>': 1, 'j a g r a h . </w>': 1, 's h o r </w>': 6, 'l o g </w>': 2, 'h o e l </w>': 1, 'p e h l y </w>': 3, 't h o r a </w>': 5, 't a n g </w>': 9, 'p a c h a n y </w>': 1, 'm e h m a a n </w>': 4, 'h o t e l </w>': 8, 's h u r u </w>': 2, 'u l j h a n </w>': 1, 'h u i . </w>': 1, 'K u c h </w>': 5, 's h o o r </w>': 1, 'm a c h n a y </w>': 1, 'm e h m a n </w>': 2, 'p e h l a y </w>': 1, 'T h o r a </w>': 1, 's h o r r </w>': 1, 'm a c h a n e </w>': 2, 'g u e s t </w>': 1, 'i r r i t a t e </w>': 4, 'p o n c h e . </w>': 1, 'p e h l e </w>': 2, 'H o t e l </w>': 1, 'm i n </w>': 3, 'k h u c h </w>': 1, 'M i n </w>': 1, 'p e h l a </w>': 1, 's a a </w>': 2, 'g u e s t s </w>': 1, 'a a </w>': 1, 'p h n c h y . </w>': 1, 'h o r i </w>': 1, 'a y e . t u </w>': 1, 'b u h a t </w>': 1, 't a s h r e e f </w>': 1, 'l a e . </w>': 1, 'c h i r </w>': 1, 'c h i r a </w>': 1, 'o v e r t a k e </w>': 7, 'u t a r </w>': 1, 'd o s r i </w>': 6, 'o v e r </w>': 1, 't a k e </w>': 1, 'k r r </w>': 2, 'r h i </w>': 2, 'm a j b o r a n </w>': 3, 'S a r a k </w>': 1, 'n e c h y </w>': 1, 'u t a r n a </w>': 1, 'p a r i </w>': 3, 't h i , </w>': 1, 'm a j b o o r a n </w>': 1, 'r o a d </w>': 2, 'n i c h a y </w>': 1, 'd r i v e </w>': 1, 'K a r n a </w>': 1, 'p r a </w>': 2, 'd u s r i </w>': 2, 'o v e r t a k w </w>': 1, 'r a i </w>': 1, 's i d e </w>': 3, 'c h a l a n e </w>': 2, 'm a j b u r </w>': 1, 'c h a l a n i </w>': 2, 'p a r i . </w>': 1, 'm j h e </w>': 2, 'n e e c h a </w>': 1, 'u t a r n i </w>': 1, 'r i </w>': 2, 'm a j b u r a n </w>': 1, 'c r o s s </w>': 1, 'p r h a </w>': 2, 'c a a r </w>': 1, 'h o , </w>': 1, 'n e e c h y </w>': 1, 'p a r y </w>': 1, 'a g e </w>': 1, 'n i k a l </w>': 1, 'd o o r </w>': 1, 'd e h a a n </w>': 2, 'd e t a </w>': 1, 'h u n . </w>': 1, 'k a a m </w>': 3, 'i l z a m </w>': 5, 'p r r </w>': 5, 'a e s i </w>': 1, 'c h e z </w>': 2, 'i l z a a m </w>': 8, 'l g a y a </w>': 2, 'u s s </w>': 3, 'N h i </w>': 1, 'K a </w>': 1, 'l a g a y a </w>': 4, 'J a y e , </w>': 1, 'J o </w>': 2, 'k g t a </w>': 1, 'h a i </w>': 2, 'c h e e z </w>': 2, 'h o t a </w>': 2, 'g a l a t </w>': 3, 'l a g e </w>': 2, 'j u </w>': 3, 'u s n e </w>': 1, 'i n s a a f i </w>': 1, 'j a i </w>': 1, 'k i a a </w>': 1, 'n a - i n s a f i </w>': 1, 'l g t a </w>': 1, 'h y </w>': 1, 'a i s i </w>': 1, 'j a e y </w>': 1, 'u s n y </w>': 1, 'z i m d a r </w>': 1, 't h a r h a y a </w>': 1, 'g a l t i </w>': 1, 'b i l a f a z o o l </w>': 1, 'j a n w a r o n </w>': 5, 'h e n </w>': 2, 'D o s t </w>': 6, 'j a n w a r o o n </w>': 1, 'h a i n . </w>': 1, 'k a r t a y </w>': 1, 'h a i n </w>': 6, 'a n i m a l s </w>': 1, 't o r t u r e </w>': 1, 'k r t e </w>': 2, 't a s h a d u d </w>': 1, 'j a n w a r </w>': 2, 'z u l m </w>': 2, 'k r a </w>': 1, 't n g </w>': 1, 't a k l e e f </w>': 1, 'd e t e </w>': 1, 'h n . </w>': 1, 'p a r t n e r </w>': 1, 'h a m l a </w>': 8, '3 </w>': 6, 'd a n t </w>': 7, 't o o t </w>': 7, 'h u m s a f a r </w>': 1, 't e e n </w>': 3, 'd a a n t </w>': 3, 'M e r a y </w>': 3, 's a t h i </w>': 3, 'u s k a y </w>': 1, 'h m l a </w>': 1, 'k h o </w>': 3, 'd i y e </w>': 2, 'p a r t e r </w>': 1, 'a t t a c k </w>': 1, 'u s k y </w>': 1, 't e e m </w>': 1, 'g a e y </w>': 2, 'b e t h a . </w>': 1, 'd u s r o n </w>': 1, 'r a w a y e </w>': 1, 'i n s a f </w>': 1, 'b a r t a o </w>': 1, 't r a f </w>': 2, 'g y a a . </w>': 1, 't a r a s h i </w>': 1, 'g a i , </w>': 1, 'm e r a y </w>': 1, 'A n d a z </w>': 1, 'M i l a n </w>': 1, 'B u r a </w>': 1, 'K a h a </w>': 1, ', </w>': 1, 'G l t </w>': 1, 'i l z a m a t </w>': 3, 'u p w r </w>': 1, 'c l o s e </w>': 1, 'p e r s o n </w>': 1, 't a r e k a </w>': 1, 't a r a f </w>': 1, 'M j h </w>': 1, 't a r e e q a </w>': 1, 'k a a r </w>': 1, 'l o g o n </w>': 1, 'k a r i b i </w>': 1, 'b e h a v i o r </w>': 1, 'g h a l a t </w>': 1, 'l g a y e </w>': 1, 'g h e i r </w>': 1, 'm u n s i f </w>': 1, 'i l z a m a a t </w>': 2, 'l g a e y </w>': 1, 'r a d </w>': 1, 'a m a l </w>': 1, 'M e r y </w>': 1, 'g a r e b i </w>': 1, 'j u l n e </w>': 1, 't a r e q e </w>': 1, 't a n z </w>': 1, 'u p e r </w>': 1, 'l a g a y e </w>': 1, 'j a n e </w>': 1, 'n a j a e z </w>': 1, 'q a r e b i </w>': 1, 'r a d - e - a m a l . </w>': 1, 'a m m i </w>': 2, 'l i f e </w>': 2, 'd a k h a l </w>': 5, 'w a l i d a </w>': 1, 'z i n d a g i </w>': 7, 'd a k h </w>': 1, 'a n d a z i </w>': 1, 'k i . </w>': 1, 'M E R I </w>': 3, 'Z i n d a g i </w>': 1, 'm a m a </w>': 1, 'i n t e r f e r e </w>': 2, 'a m i </w>': 2, 'K b </w>': 1, 'm a a n </w>': 1, 'i n t e f e r </w>': 1, 'm u d a k h l a t </w>': 1, 'm e r r </w>': 1, 'd e i n </w>': 1, 'd i y a . </w>': 1, 'g a r m i o n </w>': 2, 's b </w>': 4, 'k h u d </w>': 10, 's e k h n a </w>': 3, 'k h a a s </w>': 2, 'm a d a d </w>': 3, 'M u j h y </w>': 1, 's a b </w>': 5, 'p a r a . </w>': 1, 'k h e y a l </w>': 1, 'r a k h a </w>': 1, 's i k h a </w>': 1, 'M e r e </w>': 1, 'd e h a n </w>': 1, 's a r a </w>': 1, 'k a m </w>': 1, 's e e k h n a </w>': 5, 't a b </w>': 1, 'S m m e r </w>': 1, 'd o r a n , , </w>': 1, 'o r r </w>': 1, 'o o p r </w>': 1, 'M e r i </w>': 2, 'k h a s </w>': 1, 'k h y a a l </w>': 1, 'r a k h t a </w>': 1, 'n u k a r i </w>': 1, 's i k h a n a </w>': 1, 't u w a j o h </w>': 1, 'd i . </w>': 1}\n"
     ]
    }
   ],
   "source": [
    "import collections\n",
    "\n",
    "#returns frequency of each word\n",
    "corpus = collections.Counter(corpus)\n",
    "#print (corpus)\n",
    "#convert counter object to dictionary\n",
    "corpus = dict(corpus)\n",
    "print(\"Corpus:\",corpus)\n",
    "\n",
    "\n"
   ]
  },
  {
   "cell_type": "code",
   "execution_count": 249,
   "metadata": {},
   "outputs": [],
   "source": [
    "#computer frequency of a pair of characters or character sequences\n",
    "#accepts corpus and return frequency of each pair\n",
    "def get_stats(corpus):\n",
    "    pairs = collections.defaultdict(int)\n",
    "    for word, freq in corpus.items():\n",
    "        symbols = word.split()\n",
    "        for i in range(len(symbols)-1):\n",
    "            pairs[symbols[i],symbols[i+1]] += freq\n",
    "    return pairs"
   ]
  },
  {
   "cell_type": "code",
   "execution_count": 250,
   "metadata": {},
   "outputs": [],
   "source": [
    "#merges the most frequent pair in the corpus\n",
    "#accepts the corpus and best pair\n",
    "#returns the modified corpus \n",
    "import re\n",
    "def merge_vocab(pair, corpus_in):\n",
    "    corpus_out = {}\n",
    "    bigram = re.escape(' '.join(pair))\n",
    "    p = re.compile(r'(?<!\\S)' + bigram + r'(?!\\S)')\n",
    "    \n",
    "    for word in corpus_in:\n",
    "        w_out = p.sub(''.join(pair), word)\n",
    "        corpus_out[w_out] = corpus_in[word]\n",
    "    \n",
    "    return corpus_out"
   ]
  },
  {
   "cell_type": "code",
   "execution_count": 251,
   "metadata": {
    "scrolled": true
   },
   "outputs": [
    {
     "name": "stdout",
     "output_type": "stream",
     "text": [
      "defaultdict(<class 'int'>, {('C', 'o'): 1, ('o', 'm'): 2, ('m', 'm'): 21, ('m', 'e'): 372, ('e', 'n'): 53, ('n', 't'): 35, ('t', '</w>'): 110, ('U', 'n'): 1, ('n', 'u'): 3, ('u', 's'): 70, ('s', 'u'): 17, ('u', 'a'): 20, ('a', 'l'): 71, ('l', '</w>'): 45, ('v', 'i'): 5, ('i', 's'): 95, ('s', 'i'): 61, ('i', 't'): 7, ('h', 'u'): 77, ('a', '</w>'): 696, ('e', 'r'): 191, ('r', 'e'): 90, ('e', '</w>'): 596, ('d', 'o'): 34, ('o', 's'): 36, ('s', 't'): 33, ('k', 'a'): 139, ('j', 'i'): 44, ('s', '</w>'): 129, ('s', 'e'): 87, ('a', 'd'): 55, ('d', 'h'): 17, ('h', 'e'): 76, ('s', 'a'): 67, ('a', 'a'): 117, ('n', 'a'): 116, ('a', 'i'): 110, ('i', '</w>'): 473, ('m', 'i'): 75, ('i', 'l'): 74, ('l', 'i'): 81, ('t', 'h'): 171, ('h', 'i'): 118, ('a', 'r'): 262, ('e', 'b'): 26, ('b', 'i'): 22, ('u', 'n'): 36, ('n', 'e'): 111, ('e', 'x'): 16, ('x', 'p'): 3, ('p', 'e'): 42, ('e', 'c'): 15, ('c', 't'): 14, ('t', 'e'): 53, ('e', 'd'): 30, ('d', '</w>'): 70, ('m', 'a'): 118, ('n', 'h'): 13, ('d', 'e'): 73, ('e', 'k'): 59, ('k', 'h'): 90, ('h', 'a'): 351, ('A', 'c'): 2, ('c', 'h'): 153, ('a', 'n'): 166, ('a', 'k'): 87, ('k', '</w>'): 178, ('e', 'e'): 65, ('k', 'i'): 103, ('t', 'r'): 22, ('r', 'f'): 10, ('f', '</w>'): 15, ('g', 'y'): 32, ('y', 'a'): 106, ('l', 'e'): 37, ('6', '</w>'): 2, ('m', 'o'): 13, ('o', 'n'): 55, ('h', 's'): 7, ('h', 'o'): 123, ('o', 'g'): 6, ('y', 'e'): 77, ('e', 'i'): 140, ('i', 'k'): 36, ('q', 'a'): 15, ('g', 'h'): 27, ('r', '</w>'): 312, ('a', 'q'): 11, ('q', 'e'): 3, ('n', 'i'): 34, ('t', 'o'): 19, ('o', 'r'): 76, ('a', 'y'): 96, ('y', '</w>'): 319, ('i', 'n'): 213, ('n', '</w>'): 281, ('a', 'h'): 33, ('A', 'i'): 2, ('a', 'c'): 94, ('l', 'n'): 19, ('n', 'y'): 58, ('i', 'a'): 36, ('s', 'y'): 36, ('h', '</w>'): 48, ('l', 'a'): 119, ('r', 'y'): 32, ('a', 'g'): 47, ('a', 'f'): 29, ('f', 'i'): 30, ('d', 'a'): 77, ('i', 'r'): 26, ('M', 'u'): 2, ('u', 'j'): 57, ('j', 'h'): 77, ('l', 'o'): 13, ('r', 'a'): 138, ('h', 'y'): 56, ('t', 'y'): 21, ('K', 'a'): 5, ('l', 'l'): 2, ('l', 'y'): 21, ('b', 'o'): 7, ('o', 'h'): 8, ('u', 't'): 17, ('m', 'u'): 70, ('k', 'o'): 56, ('o', 'i'): 18, ('b', 'd'): 6, ('M', 'e'): 31, ('a', 'p'): 30, ('p', 'n'): 15, ('r', 'h'): 18, ('a', '.'): 21, ('.', '</w>'): 54, ('J', 'e'): 1, ('e', 's'): 22, ('K', 'i'): 6, ('g', 'a'): 90, ('t', 'w'): 2, ('w', 'a'): 65, ('u', 'l'): 10, ('a', 't'): 66, ('o', '.'): 4, ('J', 'i'): 4, ('j', 'o'): 39, ('o', 'b'): 18, ('b', '</w>'): 246, ('k', 'e'): 71, ('i', 'y'): 84, ('p', 'p'): 9, ('p', 'l'): 11, ('o', 'f'): 3, ('f', 'f'): 9, ('f', 'e'): 7, ('r', 'i'): 109, ('n', 'g'): 40, ('g', '</w>'): 29, ('e', 't'): 16, ('t', 't'): 18, ('j', 'a'): 64, ('a', 'b'): 88, ('u', 'm'): 33, ('p', 'r'): 56, ('J', 'b'): 67, ('b', 'b'): 6, ('m', 'j'): 22, ('j', 'y'): 10, ('s', 'k'): 27, ('m', '</w>'): 69, ('m', 'n'): 5, ('r', 'm'): 19, ('i', 'o'): 13, ('o', '</w>'): 118, ('n', 'o'): 5, ('o', 'k'): 2, ('k', 'r'): 87, ('J', 'u'): 11, ('u', 'b'): 18, ('u', 'u'): 2, ('t', 'i'): 47, ('o', 'u'): 33, ('u', '</w>'): 29, ('J', 'a'): 35, ('k', 'y'): 15, ('a', 'm'): 72, ('m', '.'): 1, ('.', 'e'): 1, ('e', '.'): 12, ('.', 'g'): 1, ('a', 'z'): 4, ('z', 'm'): 1, ('s', 'h'): 54, ('h', 'k'): 5, ('a', 's'): 52, ('s', 'o'): 12, ('o', 'o'): 27, ('o', 'l'): 7, ('r', 'k'): 2, ('u', 'w'): 10, ('w', 's'): 1, ('d', 'i'): 30, ('i', '.'): 11, ('j', 'j'): 6, ('j', 'e'): 6, ('t', 'u'): 15, ('u', 'd'): 15, ('i', 'e'): 9, ('o', 'a'): 12, ('p', 'a'): 87, ('M', 'i'): 3, ('t', 'a'): 109, ('L', 'i'): 1, ('r', 'z'): 5, ('z', 'a'): 26, ('l', 's'): 2, ('y', 'i'): 4, ('z', '</w>'): 8, ('j', 'b'): 50, ('d', 'y'): 5, ('e', 'l'): 37, ('e', 'm'): 9, ('g', 'i'): 21, ('r', 'l'): 8, ('l', 'f'): 7, ('f', 'r'): 8, ('n', 'd'): 49, ('x', 'a'): 14, ('h', 'm'): 11, ('t', 's'): 5, ('h', 'r'): 14, ('u', 'k'): 10, ('p', 'i'): 7, ('g', 'f'): 1, ('b', 'a'): 95, ('e', 'h'): 44, ('i', 'm'): 18, ('m', 't'): 17, ('D', 'i'): 1, ('l', 'd'): 3, ('p', '</w>'): 1, ('s', 'r'): 13, ('h', 'b'): 1, ('y', '.'): 2, ('s', 's'): 38, ('f', 'o'): 5, ('w', 'o'): 25, ('s', 'm'): 7, ('r', 'u'): 8, ('g', 't'): 3, ('k', 't'): 5, ('U', 's'): 1, ('p', 'h'): 8, ('b', 'h'): 13, ('r', 'c'): 1, ('u', 'r'): 36, ('a', 'o'): 3, ('o', 'c'): 11, ('b', 'e'): 9, ('h', 't'): 14, ('E', 'x'): 1, ('r', 'n'): 19, ('M', 'j'): 2, ('i', 'i'): 4, ('I', 'm'): 2, ('W', 'o'): 1, ('i', 'h'): 2, ('A', 's'): 1, ('E', 's'): 1, ('m', 'y'): 2, ('o', 'w'): 13, ('w', 'e'): 16, ('B', 'a'): 5, ('e', 'y'): 10, ('g', 'e'): 14, ('i', 'd'): 19, ('u', 'e'): 4, ('k', 'b'): 1, ('k', 's'): 9, ('r', 's'): 17, ('a', 'u'): 25, ('d', 'm'): 1, ('n', 's'): 8, ('b', 'n'): 11, ('m', 'b'): 1, ('b', 'y'): 1, ('c', 'o'): 28, ('c', 'c'): 18, ('c', 'e'): 23, ('e', 'p'): 4, ('p', 't'): 8, ('n', 'c'): 16, ('K', 'b'): 2, ('n', 'n'): 3, ('n', 'r'): 1, ('r', 't'): 48, ('n', 'z'): 2, ('z', 'o'): 2, ('d', 's'): 12, ('i', 'c'): 23, ('c', '</w>'): 9, ('c', 'i'): 4, ('M', 'a'): 2, ('a', 'v'): 3, ('n', 'v'): 4, ('v', 'o'): 4, ('l', 'v'): 4, ('v', 'e'): 14, ('u', 'i'): 5, ('p', 'y'): 8, ('d', 'f'): 4, ('f', 'a'): 10, ('H', 'r'): 3, ('K', 'e'): 1, ('a', 'e'): 15, ('b', 's'): 1, ('s', 'w'): 10, ('d', 'u'): 6, ('i', 'z'): 1, ('z', 'h'): 2, ('k', 'u'): 20, ('c', 'y'): 4, ('b', 't'): 5, ('t', 'l'): 12, ('n', '.'): 4, ('h', 'n'): 20, ('u', 'h'): 6, ('o', 'j'): 1, ('h', 'l'): 20, ('l', 'b'): 6, ('l', 'g'): 7, ('q', 't'): 1, ('j', 'u'): 15, ('o', 't'): 37, ('h', 'w'): 1, ('e', 'a'): 5, ('a', 'j'): 14, ('P', 'h'): 1, ('i', 'f'): 4, ('p', 'u'): 4, ('r', 'r'): 20, ('y', 'y'): 1, ('m', 'l'): 10, ('S', 'w'): 3, ('d', 'r'): 6, ('u', 'f'): 3, ('f', 'z'): 2, ('r', 'o'): 12, ('r', 'b'): 1, ('w', 'r'): 2, ('r', 'd'): 3, ('y', 'u'): 1, ('y', 'o'): 4, ('h', 'q'): 1, ('q', '</w>'): 1, ('u', 'c'): 21, ('o', 'd'): 6, ('t', 'b'): 2, ('M', '</w>'): 1, ('g', 'r'): 11, ('L', 'a'): 1, ('a', \"'\"): 1, (\"'\", 'w'): 1, ('s', 'n'): 3, ('h', 'd'): 1, ('P', 'a'): 5, ('q', 'r'): 5, ('c', 'a'): 20, ('T', 'a'): 2, ('k', 'k'): 2, ('k', 'n'): 3, ('c', 'k'): 3, ('o', 'y'): 2, ('g', 'n'): 9, ('h', 'p'): 1, ('B', 'i'): 1, ('l', 'k'): 2, ('Q', 'a'): 1, ('G', 'a'): 1, ('t', 'k'): 1, ('g', 'l'): 8, ('n', 'p'): 1, ('j', 'g'): 1, ('e', ','): 5, (',', '</w>'): 13, ('y', 'w'): 1, ('w', '</w>'): 2, ('g', 'k'): 1, ('m', 'p'): 1, ('m', 'h'): 2, (',', 'm'): 1, ('G', 's'): 1, ('s', 'v'): 1, ('v', 'z'): 1, ('h', 'x'): 1, ('x', 'b'): 1, ('b', 'x'): 1, ('x', 'h'): 1, ('n', ','): 4, ('d', 'l'): 1, ('E', 'k'): 1, ('A', 'k'): 2, ('b', 'u'): 14, ('a', 'w'): 6, ('K', 'h'): 3, ('G', 'h'): 1, ('l', 'u'): 1, ('F', 'a'): 2, ('h', '.'): 1, ('o', 'e'): 1, ('l', 'j'): 1, ('K', 'u'): 5, ('T', 'h'): 1, ('g', 'u'): 2, ('p', 'o'): 1, ('H', 'o'): 1, ('.', 't'): 1, ('e', 'f'): 3, ('o', 'v'): 9, ('S', 'a'): 1, ('i', ','): 2, ('i', 'v'): 1, ('k', 'w'): 1, ('c', 'r'): 1, ('o', ','): 1, ('l', 'z'): 18, ('e', 'z'): 5, ('N', 'h'): 1, ('J', 'o'): 2, ('k', 'g'): 1, ('a', '-'): 1, ('-', 'i'): 1, ('z', 'i'): 9, ('m', 'd'): 1, ('l', 't'): 2, ('n', 'w'): 8, ('D', 'o'): 6, ('z', 'u'): 2, ('l', 'm'): 2, ('t', 'n'): 2, ('k', 'l'): 1, ('3', '</w>'): 6, ('m', 's'): 1, ('A', 'n'): 1, ('B', 'u'): 1, ('G', 'l'): 1, ('u', 'p'): 2, ('p', 'w'): 1, ('c', 'l'): 1, ('e', 'q'): 2, ('g', 'o'): 1, ('i', 'b'): 1, ('d', '-'): 1, ('-', 'e'): 1, ('e', '-'): 1, ('-', 'a'): 1, ('l', '.'): 1, ('M', 'E'): 3, ('E', 'R'): 3, ('R', 'I'): 3, ('I', '</w>'): 3, ('Z', 'i'): 1, ('s', 'b'): 4, ('S', 'm'): 1, (',', ','): 1, ('o', 'p'): 1})\n"
     ]
    }
   ],
   "source": [
    "#compute frequency of bigrams in a corpus\n",
    "pairs = get_stats(corpus)\n",
    "print(pairs)"
   ]
  },
  {
   "cell_type": "code",
   "execution_count": 252,
   "metadata": {},
   "outputs": [
    {
     "name": "stdout",
     "output_type": "stream",
     "text": [
      "Most Frequent pair: ('a', '</w>')\n"
     ]
    }
   ],
   "source": [
    "#compute the best pair\n",
    "best = max(pairs, key=pairs.get)\n",
    "print(\"Most Frequent pair:\",best)"
   ]
  },
  {
   "cell_type": "code",
   "execution_count": 253,
   "metadata": {},
   "outputs": [
    {
     "name": "stdout",
     "output_type": "stream",
     "text": [
      "After Merging: {'C o m m e n t </w>': 1, 'U n u s u a l </w>': 1, 'v i s i t </w>': 2, 'h u a</w>': 16, 'm e r e </w>': 33, 'd o s t </w>': 19, 'k a</w>': 63, 'j i s </w>': 22, 's e </w>': 48, 'm e </w>': 90, 'a d h e </w>': 3, 's a a l </w>': 6, 'n a i </w>': 20, 'm i l i </w>': 1, 't h i </w>': 39, 'k a r e b i </w>': 2, ' </w>': 19, 'u n e x p e c t e d </w>': 1, 'j i s e </w>': 4, 'm a</w>': 36, 's a</w>': 10, 'n h i </w>': 11, 'd e k h a</w>': 21, 't h a</w>': 85, 'A c h a n a k </w>': 2, 'k a r e e b i </w>': 4, 'k i </w>': 23, 't r f </w>': 3, 'g y a</w>': 17, 'm i l e </w>': 1, '6 </w>': 2, 'm o n t h s </w>': 1, 'h o g y e </w>': 1, 'e i k </w>': 2, 'q a r e e b i </w>': 5, 'g h e r </w>': 3, 'y a q e e n i </w>': 1, 't o r </w>': 2, 'p e </w>': 2, 'a n a</w>': 1, 'j i s a y </w>': 3, 'm e i n </w>': 112, 'n a y </w>': 6, 'a d h a</w>': 1, 'n a h i </w>': 14, 'A i k </w>': 2, 'a c h a n a k </w>': 2, 'm i l n y </w>': 6, 'a i a</w>': 1, 'j i s y </w>': 7, 'm a a h </w>': 1, 'm i l a</w>': 17, 'm e r y </w>': 15, 'a g y a</w>': 1, 's y </w>': 20, 'k a f i </w>': 7, 'd a i r </w>': 5, 'n i </w>': 15, 'k i l a</w>': 1, 'M u j h e </w>': 1, 'e k </w>': 25, 'm i l n e </w>': 7, 'a y a</w>': 6, 'n y </w>': 27, 's a l o n </w>': 1, 'm e r a</w>': 17, 'a a d h y </w>': 2, 'g h a n t y </w>': 1, 'K a a f i </w>': 1, 'u n u s u a l l y </w>': 1, 'a i k </w>': 17, 'b o h u t </w>': 1, 'a c h a</w>': 18, 'm u j h e </w>': 22, 'k o i </w>': 14, 'b d </w>': 5, 'M e i n </w>': 13, 'a p n e </w>': 2, 'k h e r h e </w>': 1, 'k </w>': 105, 'h a n </w>': 1, 'u s e </w>': 2, 'm i l n a</w>': 3, 'g y a . </w>': 1, 'J e s e </w>': 1, 'm e i n e </w>': 1, 'K i s i </w>': 2, 'e s e </w>': 3, 'g a i r </w>': 1, 'm u t w a k a</w>': 1, 'm u l a q a t </w>': 1, 'a d h y </w>': 1, 'n a</w>': 16, 'h o . </w>': 4, 'J i s </w>': 2, 'j o b </w>': 16, 'k e </w>': 21, 'l i y e </w>': 31, 'n e </w>': 34, 'a p p l y </w>': 9, 'k i a</w>': 16, 'u a</w>': 1, 'o f f e r i n g </w>': 1, 'l e t t e r </w>': 9, 'j a b </w>': 33, 's u m m e r </w>': 14, 'p r </w>': 34, 'm a i n e </w>': 8, 'J b b </w>': 3, 'm j y </w>': 4, 'm i l a a</w>': 1, 'j i s k e </w>': 1, 'k i y a</w>': 20, 'm u j h y </w>': 17, 'm </w>': 17, 'm n </w>': 5, 'g a r m i o </w>': 3, 'n o k r i </w>': 2, 'J u b </w>': 11, 'm u j y </w>': 5, 'k h a t </w>': 2, 'j o </w>': 17, 'g a r m i </w>': 1, 'c h u u t t i o u </w>': 1, 'K i a</w>': 2, 'J b </w>': 64, 'm e n e </w>': 13, 'J a b </w>': 34, 'k y </w>': 12, 'j a h a n </w>': 1, 'u s k a</w>': 4, 'm i l </w>': 1, 'n a a</w>': 1, 't o </w>': 6, 'm i l a . </w>': 1, 'm u s a m . e . g a r m a</w>': 1, 'm u l a z m a t </w>': 1, 'p e s h k a s h </w>': 1, 'm o s o o l </w>': 1, 'h o </w>': 20, 'd a r k h u w s a t </w>': 1, 'd i </w>': 6, 't h i . </w>': 3, 'm u j j e </w>': 5, 'a p n i </w>': 6, 's t u d i e s </w>': 2, 'l o a n </w>': 6, 'p a r h a i </w>': 3, 'M i n e </w>': 1, 't a k e n </w>': 1, 'l a s t </w>': 1, 'L i a</w>': 1, 'q a r z a a</w>': 1, 'm i l l s </w>': 1, 'g a</w>': 7, 'p a r h a y i </w>': 1, 'k a r z a</w>': 2, 'p a r a h i </w>': 1, 'l i y a</w>': 6, 'p r h a i </w>': 1, 'k a r z </w>': 1, 'j b </w>': 43, 'a p n y </w>': 2, 's t u d y </w>': 1, 'k e l i y e </w>': 1, 't a l e e m </w>': 1, 'q a r z a</w>': 1, 'm i l e . </w>': 1, 'g i r l f r i e n d </w>': 6, 'a p n a</w>': 5, 'e x a m </w>': 13, 'd e </w>': 4, 'l i a</w>': 6, 'h m </w>': 1, 'u s </w>': 22, 'p a r e n t s </w>': 4, 'g h r </w>': 10, 'g a y e </w>': 8, 'm e r i </w>': 35, 'c h u k i </w>': 1, 't h y </w>': 6, 'h u m </w>': 7, 'u s k e </w>': 4, 'g h a r </w>': 9, 'j b b </w>': 1, 'p a p e r </w>': 5, 'd i y a a</w>': 1, 'p i r </w>': 1, 'h m m m </w>': 1, 'g y e </w>': 4, 'g f </w>': 1, 'b a a d </w>': 9, 'a m m a</w>': 1, 'a b b a</w>': 1, 's e h e l i </w>': 1, 'i m t a h a n </w>': 2, 'D i y a</w>': 1, 't u </w>': 8, 'u n </w>': 1, 'w a l d e e n </w>': 2, 'g a y </w>': 2, 'i m t e h a n </w>': 4, 'd i a</w>': 4, 't o u </w>': 3, 'i s k y </w>': 1, 'm a a</w>': 4, 'b a a p </w>': 1, 'k h a t a m </w>': 1, 'g i r l f r i e n t </w>': 1, 'k o </w>': 35, 'b a c h i </w>': 5, 'd i y a</w>': 7, 's u s r a l </w>': 1, 'i m t e h a a n </w>': 2, 'w a l d e i n </w>': 1, 'g y e . </w>': 2, 'm e h b o o b a</w>': 1, 'd y </w>': 2, 'g y . </w>': 1, 'M e </w>': 5, 'p a s s </w>': 26, 'k r </w>': 25, 'p a t a</w>': 1, 'p e r f o r m </w>': 4, 'w o h </w>': 5, 'j i s m e </w>': 3, 'k i y a a</w>': 1, 'y a q e e n </w>': 1, 't h a a</w>': 1, 'w o </w>': 20, 'k r l i a</w>': 1, 'p e r f r m </w>': 1, 'k y a</w>': 1, 'k a r </w>': 2, 'K i y a</w>': 2, 'u m e e d </w>': 11, 'k r u n g a</w>': 1, 'l a g t a</w>': 1, 's k t a</w>': 2, 'p a a s </w>': 1, 'e x p e c t </w>': 2, 'r h a</w>': 4, 'U s </w>': 1, 'h o n e </w>': 11, 'h i </w>': 10, 'p h i r </w>': 1, 'b h i </w>': 6, 'h o g y a</w>': 1, 'l a g a</w>': 1, 's a i </w>': 1, 't a r a h </w>': 1, 'h a l </w>': 1, 'p a r c h a y </w>': 1, 's a r k h u r u </w>': 1, 'j a o n </w>': 1, 'b a r y </w>': 4, 'm a i n </w>': 6, 's o c h a</w>': 1, 'b e h t e r </w>': 1, 'g a . </w>': 2, 'E x a m </w>': 1, 'k r n a</w>': 4, 'M j y </w>': 1, 'k i i </w>': 1, 'e e i k </w>': 1, 'h o n a</w>': 4, 'p a s s s </w>': 1, 'I m t a h a n </w>': 1, 'J i s k i </w>': 1, 'W o </w>': 1, 'i m t i h a n </w>': 1, 'J i s m e </w>': 1, 'u s m e </w>': 1, 'A s a</w>': 1, 'I m t e h a a n </w>': 1, 'E s e </w>': 1, 'k a m y a b </w>': 1, 'k a m y a b i </w>': 1, 't w a q a</w>': 1, 'b a c h e </w>': 6, 't h e </w>': 7, 'h o w e </w>': 3, 'M e r a</w>': 4, 'B a c h a</w>': 2, 'K a b </w>': 1, 'h o n </w>': 8, 'b a c h a y </w>': 1, 't h e y </w>': 1, 'b a c h a</w>': 20, 'b a c h y </w>': 1, 'p a s </w>': 1, 'h m a r y </w>': 1, 'B a c h e </w>': 1, 'g e </w>': 2, 'p e d a</w>': 3, 'h u w e </w>': 1, 'h o w e . </w>': 1, 'p a i d a</w>': 9, 'h u e </w>': 1, 'h o w a</w>': 7, 'k b </w>': 1, 'h o g a</w>': 1, 'h u w a</w>': 6, 'h o a</w>': 3, 'h m a a r a</w>': 1, 'h o w a . </w>': 2, 's h k s </w>': 1, 'b a r e </w>': 3, 'a r s e </w>': 4, 'n a u </w>': 1, 'b a n d e </w>': 3, 'a d m i </w>': 1, 'd e h k a a</w>': 2, 'u s k o </w>': 3, 'b h t </w>': 1, 'd e e e r </w>': 1, 'b a a t </w>': 2, 'i n s a n </w>': 3, 'k a a f i </w>': 1, 'a r s a y </w>': 1, 'd e e k h a</w>': 1, 'u r s y </w>': 1, 'b n d y </w>': 2, 'j i s k o </w>': 3, 'a r s y </w>': 2, 's h a k s </w>': 2, 'd i n o n </w>': 1, 'M e n e </w>': 2, 'b d i </w>': 1, 'd e r </w>': 5, 's h a k a s </w>': 6, 'a k </w>': 2, 'l a m b y </w>': 1, 'c o u r s e </w>': 8, 'a c c e p t </w>': 4, 'f i n a n c e </w>': 8, 'r </w>': 6, 'a c c o u n t i n g </w>': 9, 'o r </w>': 38, 's e l e c t </w>': 1, 'K b b </w>': 1, 'k a a</w>': 1, 'l o o n </w>': 1, 'g a a</w>': 1, 'f i n n a n c e </w>': 1, 'a n d </w>': 3, 'a c c o u n r t i n g </w>': 1, 'c o u s r e </w>': 1, 'c h u n </w>': 2, 'g i a</w>': 1, 'a u r </w>': 19, 'u t h a y a</w>': 1, 'f i n a n a c e </w>': 1, 'm a n z o o r </w>': 1, 'm u e s h i t </w>': 1, 'm a l i a t </w>': 1, 'n a s a a b </w>': 1, 'q a b o o l </w>': 1, 's a t h </w>': 3, 's a r a k </w>': 6, 'h a d s a</w>': 1, 't r a f f i c </w>': 8, 'a c c i d e n t </w>': 4, 's h i k a r </w>': 7, 'h a a d s e y </w>': 1, 's h i k a a r </w>': 1, 'h a d s y </w>': 3, 'h o i </w>': 3, 'M a</w>': 2, 'k a b </w>': 1, 'h a d s a y </w>': 3, 'm u l a v i s </w>': 2, 'i n v o l v e </w>': 4, 'p h a s </w>': 1, 'k i s i </w>': 33, 'h u i </w>': 2, 'h o i . </w>': 1, 't r a f i i c </w>': 1, 'h a d s e </w>': 1, 's h a m i l </w>': 6, 't h a . </w>': 7, 'a k e l a</w>': 12, 'e k e l a</w>': 1, 'p y </w>': 5, 'a k a l i </w>': 1, 'a k e l i </w>': 7, 't a n h a</w>': 1, 'p a r </w>': 4, 'h r </w>': 2, 'd f a</w>': 4, 's o c h t a</w>': 3, 'h u n </w>': 6, 'p i y a r </w>': 3, 'k r t a</w>': 5, 'y a</w>': 10, 's e r i o u s </w>': 3, 'b i m a r i </w>': 2, 's k t i </w>': 2, 'b e m a r i </w>': 4, 'j a y e </w>': 3, 'H r </w>': 3, 'd a f a</w>': 3, 'i m a g i n e </w>': 1, 'k r t i </w>': 7, 'K e </w>': 1, 'm o h a b a t </w>': 1, 'h u i n </w>': 1, 'j a e </w>': 3, 'y e </w>': 5, 'f e h e m </w>': 1, 'b a a h i r </w>': 1, 'h a</w>': 1, 'b </w>': 5, 's o c h t i </w>': 4, 'm a r y </w>': 1, 'j a n n a y </w>': 1, 'w a l y </w>': 4, 'j i s s y </w>': 1, 'p a y a r </w>': 1, 'b i n a r i </w>': 1, 'k a b s h i k a r </w>': 1, 'j a y </w>': 1, 't u s w a r </w>': 1, 'c h a h t a</w>': 1, 's h a d i d </w>': 2, 'd u k h </w>': 1, 'i z h a r </w>': 1, 's a k u n </w>': 2, 'b a a r </w>': 5, 'y e h </w>': 2, 'h u </w>': 4, 'p y a a r </w>': 1, 'k h t r n a a k </w>': 1, 'c y </w>': 4, 'r a b t a</w>': 1, 'k a r u </w>': 1, 'm j h y </w>': 11, 'k h a y a l </w>': 3, 'a t a</w>': 1, 'p y a r </w>': 2, 'u s y </w>': 2, 'u s k i </w>': 2, 'c o n t a c t </w>': 1, 'k r u </w>': 1, 'c h a n h e </w>': 1, 'w a l e </w>': 7, 'j a n n e </w>': 1, 's h a d e e d </w>': 3, 'b i m a r </w>': 1, 'g y </w>': 2, 'p i y a a r </w>': 1, 'k e r t i </w>': 1, 'b e m a a r i </w>': 1, 'm u b t a l a</w>': 2, 'j a t i </w>': 1, 'm u b t l a</w>': 2, 'h o n . </w>': 1, 'y </w>': 2, 'k s i </w>': 6, 'h n </w>': 4, 's h a d e d </w>': 1, 'p i m a r i </w>': 1, 's o c h a t a</w>': 1, 'k e s i </w>': 10, 'm u h a b a t </w>': 1, 'b e m a a r </w>': 1, 'h o j a t a</w>': 1, 'h a i . </w>': 1, 'p e h l i </w>': 9, 'm o u t </w>': 6, 'm t l b </w>': 5, 'p t a</w>': 4, 'l g a</w>': 1, 'b a r </w>': 4, 'm a r n e </w>': 1, 'm a t l b </w>': 1, 's a m j h </w>': 1, 'p h e l e </w>': 2, 'j a n a</w>': 2, 'w a q t </w>': 1, 'k o n s a</w>': 1, 'j u b </w>': 3, 'm a u t </w>': 2, 'm a a a n i </w>': 1, 'a h s a s </w>': 1, 'p h l i </w>': 1, 'm o t </w>': 2, 'm a t l a b </w>': 3, 'e h s a s </w>': 2, 'd h a</w>': 1, 'm u j h </w>': 6, 'h w a</w>': 1, 'm o a t </w>': 1, 'c h a l a</w>': 2, 'm e a n i n g </w>': 2, 's m j h </w>': 2, 'a y e </w>': 7, 'm j h e y </w>': 1, 's a m a j h </w>': 1, 'm t l a b </w>': 1, 'a y a . </w>': 1, 'P h l i </w>': 1, 'c h l a</w>': 1, 'm o o t </w>': 1, 'w a k i f </w>': 1, 'h u w a . </w>': 1, 'm e e t i n g </w>': 3, 'r a k h y </w>': 1, 'l a t e </w>': 8, 'p u h a n c h y </w>': 3, 'a r r a n g e </w>': 2, 'k r e </w>': 3, 'b a n d a</w>': 3, 'k a r e </w>': 1, 'm u k a a q a a t </w>': 1, 't a a y </w>': 1, 's h a k h s </w>': 2, 'a a e </w>': 1, 'k a h y </w>': 1, 'a a y y </w>': 1, 'm i l n a y </w>': 1, 'a y </w>': 3, 'a i r </w>': 1, 'e h t i m a a m </w>': 1, 'd e i r </w>': 2, 'p h n c h a</w>': 1, 'b n d a</w>': 3, 'p l a n </w>': 2, 'b a n a y e i n </w>': 1, 'a y e . </w>': 3, 'm l n y </w>': 1, 'b n a y </w>': 1, 'd o s r e </w>': 1, 'b a n d o b a s t </w>': 1, 'd o s r a</w>': 1, 'p u h a n c h e . </w>': 1, 'S w e d e n </w>': 3, 'p r a c t i c e </w>': 9, 'd o r a n </w>': 2, 'd r </w>': 3, 'k a r u n g a</w>': 1, 's w e d e n </w>': 8, 'k r n e </w>': 4, 'g a y a</w>': 1, 'k h u f z a d a</w>': 1, 'k r o </w>': 1, 'g a i </w>': 7, 'd r r </w>': 2, 'k a r u i n </w>': 1, 'g i </w>': 2, 't a r b i y a t </w>': 1, 'l i h e </w>': 1, 'k h o f </w>': 2, 'z a d a</w>': 2, 'a c h i </w>': 1, 't r h a</w>': 1, 'p a u </w>': 2, 'c h u t i o n </w>': 1, 's w r d e n </w>': 1, 'c h a t i </w>': 1, 'a c h y </w>': 1, 'p a o n </w>': 1, 'g a r m i y u n </w>': 1, 'k a e </w>': 3, 'd u r a n </w>': 1, 'm a s h k </w>': 1, 'g a r m i y o </w>': 1, 'm e i </w>': 1, 'm a s h q </w>': 1, 'l e a y </w>': 3, 'g a e </w>': 1, 'd a r </w>': 6, 'k u c h </w>': 14, 'k r n y </w>': 4, 'g a r m i y o n </w>': 3, 's o d a n </w>': 1, 't b </w>': 2, 'r a h a</w>': 1, 'k e r n e </w>': 1, 'g a y i </w>': 2, 'k e r </w>': 1, 'r a h i </w>': 5, 'k h o u f z a d a</w>': 1, 'a c h e </w>': 1, 's k t i . </w>': 1, 'M </w>': 1, 'g r m i o </w>': 1, 'k h a u f </w>': 1, 'k r i </w>': 1, 'g a r m e i o n </w>': 1, 'c h a l e </w>': 1, 'k a r o n </w>': 1, 'p a r t y </w>': 7, 'l a r a i </w>': 10, 'b a d </w>': 6, 'p a r n e </w>': 1, 'r i s k </w>': 1, 'L a r a i </w>': 1, 'i n </w>': 1, \"d a ' w a t </w>\": 1, 'j h a g r e y </w>': 1, 'p h a s n e y </w>': 1, 'k h a d s h a</w>': 1, 'w a l i </w>': 8, 'l a r a i i </w>': 2, 'h o n y </w>': 4, 'k h d s h a</w>': 1, 'h o n a y </w>': 1, 'h a d s h a</w>': 1, 'P a r t y </w>': 4, 'j h a g r y </w>': 3, 'k h a t r a</w>': 4, 'l a r h a i </w>': 2, 'P a r t </w>': 1, 'j h a g r e </w>': 1, 'k h t r a . </w>': 1, 'h n y </w>': 3, 'k h a t r a . </w>': 1, 'c h o t a</w>': 3, 'g a r i </w>': 14, 't a k r a n y </w>': 2, 'k a r e e b </w>': 1, 't a k r a t y </w>': 2, 't a q r e b n </w>': 3, 'c a r </w>': 19, 'T a k r </w>': 1, 't a q r e e b a n </w>': 2, 'g a a r i </w>': 6, 't h u k k </w>': 2, 'c h u k a</w>': 3, 'n i c h y </w>': 3, 'a a n y </w>': 2, 'w a l a</w>': 4, 't a k r e b a n </w>': 2, 'n e c h a y </w>': 2, 'g r a</w>': 2, 't h u k n y </w>': 1, 'b a n </w>': 1, 'k n o c k </w>': 2, 't a k r a t e </w>': 2, 'h o y e </w>': 2, 'l a g n e </w>': 2, 'l a g i </w>': 2, 't a k r e e b n </w>': 1, 'i </w>': 1, 't a k r </w>': 3, 'b a c h p a n </w>': 1, 'n e e c h e </w>': 1, 'k u c h a l a</w>': 1, 't a k a r </w>': 2, 'B i l k u l </w>': 1, 'l g n e </w>': 1, 'Q a r e e b </w>': 1, 'e </w>': 5, 'm a a r </w>': 1, 'd e t i </w>': 1, 'G a a r i </w>': 1, 'T a k r e e b n </w>': 1, 'g a r d i </w>': 1, 't k r a n y </w>': 1, 'q a r e e b </w>': 2, 't a k r a</w>': 1, 'j u n g l e </w>': 6, 'j h i n p r i </w>': 1, 'a n d h e r i </w>': 1, 'j g </w>': 1, 'c o t t a g e </w>': 7, 'm e , </w>': 4, 't h o r i </w>': 1, 'a n d h e r a</w>': 1, 'B a r e </w>': 1, 'f o r e s t </w>': 1, 'l i y w </w>': 1, 'b i l k u l </w>': 1, 'e k e l e </w>': 1, 'b a r r e </w>': 1, 'j u n g k e </w>': 1, 'j h o m p r i </w>': 1, 'c h a n d </w>': 1, 'l a m h a a t </w>': 1, 't a a r e e k i </w>': 1, 'i k </w>': 2, ', m a</w>': 1, 'l i a y </w>': 1, 'a n d h a r y </w>': 2, 'a k a i l a</w>': 1, 'G s h s v z h x b x h </w>': 1, 'B a r y </w>': 1, 'j a n g l e </w>': 1, 'k u t y a</w>': 1, 'm e i n , </w>': 3, 'a n d h e r y </w>': 1, 'l a m h y </w>': 1, 'j a n g a l </w>': 1, 'a n d h e r e </w>': 3, 'g h a n e </w>': 1, 'j a n d l o </w>': 1, 'E k </w>': 1, 'A k </w>': 2, 'j u n g l </w>': 1, 'c o t h r i </w>': 1, 'i n d h e r y </w>': 1, 't h o r y </w>': 1, 't i m e </w>': 1, 'l y </w>': 1, 'a n d e r </w>': 1, 'r a a t </w>': 1, 's a m a</w>': 1, 'b h a g n y </w>': 1, 'b u s </w>': 11, 'c h o t </w>': 2, 'p e c h a</w>': 1, 'k r t y </w>': 6, 'h u a y </w>': 1, 'm i s s </w>': 5, 'k r d i a</w>': 1, 'p i c h a y </w>': 1, 'b h a g n a y </w>': 1, 'b a w a j o o d </w>': 5, 'c h o o t </w>': 1, 'p e e c h e </w>': 2, 'b a g h n e </w>': 1, 'b h a g n e </w>': 1, 'c h o o t i </w>': 1, 'm j j e </w>': 1, 'b h a g n a a</w>': 1, 'p a r a</w>': 7, 'p e e c h y </w>': 2, 'b h a a g n y </w>': 2, 'd o r t e </w>': 1, 'd o r r </w>': 1, 'l a g a n e </w>': 1, 'j h o o t </w>': 1, 'g y i . </w>': 1, 'k h a n d a n </w>': 2, 'K h a n d a a n </w>': 1, 'K h a a n d a n </w>': 1, 'K h a n d a n </w>': 1, 'f a m i l y </w>': 1, 'G h a r e l u u </w>': 1, 'j h a g r a y </w>': 1, 'k h a n d a a n </w>': 1, 'F a m i l y </w>': 2, 'j h a g r a</w>': 1, 'j a g r a h . </w>': 1, 's h o r </w>': 6, 'l o g </w>': 2, 'h o e l </w>': 1, 'p e h l y </w>': 3, 't h o r a</w>': 5, 't a n g </w>': 9, 'p a c h a n y </w>': 1, 'm e h m a a n </w>': 4, 'h o t e l </w>': 8, 's h u r u </w>': 2, 'u l j h a n </w>': 1, 'h u i . </w>': 1, 'K u c h </w>': 5, 's h o o r </w>': 1, 'm a c h n a y </w>': 1, 'm e h m a n </w>': 2, 'p e h l a y </w>': 1, 'T h o r a</w>': 1, 's h o r r </w>': 1, 'm a c h a n e </w>': 2, 'g u e s t </w>': 1, 'i r r i t a t e </w>': 4, 'p o n c h e . </w>': 1, 'p e h l e </w>': 2, 'H o t e l </w>': 1, 'm i n </w>': 3, 'k h u c h </w>': 1, 'M i n </w>': 1, 'p e h l a</w>': 1, 's a a</w>': 2, 'g u e s t s </w>': 1, 'a a</w>': 1, 'p h n c h y . </w>': 1, 'h o r i </w>': 1, 'a y e . t u </w>': 1, 'b u h a t </w>': 1, 't a s h r e e f </w>': 1, 'l a e . </w>': 1, 'c h i r </w>': 1, 'c h i r a</w>': 1, 'o v e r t a k e </w>': 7, 'u t a r </w>': 1, 'd o s r i </w>': 6, 'o v e r </w>': 1, 't a k e </w>': 1, 'k r r </w>': 2, 'r h i </w>': 2, 'm a j b o r a n </w>': 3, 'S a r a k </w>': 1, 'n e c h y </w>': 1, 'u t a r n a</w>': 1, 'p a r i </w>': 3, 't h i , </w>': 1, 'm a j b o o r a n </w>': 1, 'r o a d </w>': 2, 'n i c h a y </w>': 1, 'd r i v e </w>': 1, 'K a r n a</w>': 1, 'p r a</w>': 2, 'd u s r i </w>': 2, 'o v e r t a k w </w>': 1, 'r a i </w>': 1, 's i d e </w>': 3, 'c h a l a n e </w>': 2, 'm a j b u r </w>': 1, 'c h a l a n i </w>': 2, 'p a r i . </w>': 1, 'm j h e </w>': 2, 'n e e c h a</w>': 1, 'u t a r n i </w>': 1, 'r i </w>': 2, 'm a j b u r a n </w>': 1, 'c r o s s </w>': 1, 'p r h a</w>': 2, 'c a a r </w>': 1, 'h o , </w>': 1, 'n e e c h y </w>': 1, 'p a r y </w>': 1, 'a g e </w>': 1, 'n i k a l </w>': 1, 'd o o r </w>': 1, 'd e h a a n </w>': 2, 'd e t a</w>': 1, 'h u n . </w>': 1, 'k a a m </w>': 3, 'i l z a m </w>': 5, 'p r r </w>': 5, 'a e s i </w>': 1, 'c h e z </w>': 2, 'i l z a a m </w>': 8, 'l g a y a</w>': 2, 'u s s </w>': 3, 'N h i </w>': 1, 'K a</w>': 1, 'l a g a y a</w>': 4, 'J a y e , </w>': 1, 'J o </w>': 2, 'k g t a</w>': 1, 'h a i </w>': 2, 'c h e e z </w>': 2, 'h o t a</w>': 2, 'g a l a t </w>': 3, 'l a g e </w>': 2, 'j u </w>': 3, 'u s n e </w>': 1, 'i n s a a f i </w>': 1, 'j a i </w>': 1, 'k i a a</w>': 1, 'n a - i n s a f i </w>': 1, 'l g t a</w>': 1, 'h y </w>': 1, 'a i s i </w>': 1, 'j a e y </w>': 1, 'u s n y </w>': 1, 'z i m d a r </w>': 1, 't h a r h a y a</w>': 1, 'g a l t i </w>': 1, 'b i l a f a z o o l </w>': 1, 'j a n w a r o n </w>': 5, 'h e n </w>': 2, 'D o s t </w>': 6, 'j a n w a r o o n </w>': 1, 'h a i n . </w>': 1, 'k a r t a y </w>': 1, 'h a i n </w>': 6, 'a n i m a l s </w>': 1, 't o r t u r e </w>': 1, 'k r t e </w>': 2, 't a s h a d u d </w>': 1, 'j a n w a r </w>': 2, 'z u l m </w>': 2, 'k r a</w>': 1, 't n g </w>': 1, 't a k l e e f </w>': 1, 'd e t e </w>': 1, 'h n . </w>': 1, 'p a r t n e r </w>': 1, 'h a m l a</w>': 8, '3 </w>': 6, 'd a n t </w>': 7, 't o o t </w>': 7, 'h u m s a f a r </w>': 1, 't e e n </w>': 3, 'd a a n t </w>': 3, 'M e r a y </w>': 3, 's a t h i </w>': 3, 'u s k a y </w>': 1, 'h m l a</w>': 1, 'k h o </w>': 3, 'd i y e </w>': 2, 'p a r t e r </w>': 1, 'a t t a c k </w>': 1, 'u s k y </w>': 1, 't e e m </w>': 1, 'g a e y </w>': 2, 'b e t h a . </w>': 1, 'd u s r o n </w>': 1, 'r a w a y e </w>': 1, 'i n s a f </w>': 1, 'b a r t a o </w>': 1, 't r a f </w>': 2, 'g y a a . </w>': 1, 't a r a s h i </w>': 1, 'g a i , </w>': 1, 'm e r a y </w>': 1, 'A n d a z </w>': 1, 'M i l a n </w>': 1, 'B u r a</w>': 1, 'K a h a</w>': 1, ', </w>': 1, 'G l t </w>': 1, 'i l z a m a t </w>': 3, 'u p w r </w>': 1, 'c l o s e </w>': 1, 'p e r s o n </w>': 1, 't a r e k a</w>': 1, 't a r a f </w>': 1, 'M j h </w>': 1, 't a r e e q a</w>': 1, 'k a a r </w>': 1, 'l o g o n </w>': 1, 'k a r i b i </w>': 1, 'b e h a v i o r </w>': 1, 'g h a l a t </w>': 1, 'l g a y e </w>': 1, 'g h e i r </w>': 1, 'm u n s i f </w>': 1, 'i l z a m a a t </w>': 2, 'l g a e y </w>': 1, 'r a d </w>': 1, 'a m a l </w>': 1, 'M e r y </w>': 1, 'g a r e b i </w>': 1, 'j u l n e </w>': 1, 't a r e q e </w>': 1, 't a n z </w>': 1, 'u p e r </w>': 1, 'l a g a y e </w>': 1, 'j a n e </w>': 1, 'n a j a e z </w>': 1, 'q a r e b i </w>': 1, 'r a d - e - a m a l . </w>': 1, 'a m m i </w>': 2, 'l i f e </w>': 2, 'd a k h a l </w>': 5, 'w a l i d a</w>': 1, 'z i n d a g i </w>': 7, 'd a k h </w>': 1, 'a n d a z i </w>': 1, 'k i . </w>': 1, 'M E R I </w>': 3, 'Z i n d a g i </w>': 1, 'm a m a</w>': 1, 'i n t e r f e r e </w>': 2, 'a m i </w>': 2, 'K b </w>': 1, 'm a a n </w>': 1, 'i n t e f e r </w>': 1, 'm u d a k h l a t </w>': 1, 'm e r r </w>': 1, 'd e i n </w>': 1, 'd i y a . </w>': 1, 'g a r m i o n </w>': 2, 's b </w>': 4, 'k h u d </w>': 10, 's e k h n a</w>': 3, 'k h a a s </w>': 2, 'm a d a d </w>': 3, 'M u j h y </w>': 1, 's a b </w>': 5, 'p a r a . </w>': 1, 'k h e y a l </w>': 1, 'r a k h a</w>': 1, 's i k h a</w>': 1, 'M e r e </w>': 1, 'd e h a n </w>': 1, 's a r a</w>': 1, 'k a m </w>': 1, 's e e k h n a</w>': 5, 't a b </w>': 1, 'S m m e r </w>': 1, 'd o r a n , , </w>': 1, 'o r r </w>': 1, 'o o p r </w>': 1, 'M e r i </w>': 2, 'k h a s </w>': 1, 'k h y a a l </w>': 1, 'r a k h t a</w>': 1, 'n u k a r i </w>': 1, 's i k h a n a</w>': 1, 't u w a j o h </w>': 1, 'd i . </w>': 1}\n"
     ]
    }
   ],
   "source": [
    "#merge the frequent pair in corpus\n",
    "corpus = merge_vocab(best, corpus)\n",
    "print(\"After Merging:\", corpus)\n",
    "\n",
    "#convert a tuple to a string\n",
    "best = \"\".join(list(best))\n",
    "\n",
    "#append to merge list and vocabulary\n",
    "merges = []\n",
    "merges.append(best)\n",
    "vocab.append(best)"
   ]
  },
  {
   "cell_type": "code",
   "execution_count": 254,
   "metadata": {},
   "outputs": [
    {
     "name": "stdout",
     "output_type": "stream",
     "text": [
      "BPE Merge Operations: ['a</w>', 'e</w>', 'i</w>', 'y</w>', 'r</w>', 'n</w>', 'me', 'b</w>', 'ar', 'ha', 'k</w>']\n"
     ]
    }
   ],
   "source": [
    "num_merges = 10\n",
    "for i in range(num_merges):\n",
    "    \n",
    "    #compute frequency of bigrams in a corpus\n",
    "    pairs = get_stats(corpus)\n",
    "    \n",
    "    #compute the best pair\n",
    "    best = max(pairs, key=pairs.get)\n",
    "    \n",
    "    #merge the frequent pair in corpus\n",
    "    corpus = merge_vocab(best, corpus)\n",
    "    \n",
    "    #append to merge list and vocabulary\n",
    "    merges.append(best)\n",
    "    vocab.append(best)\n",
    "\n",
    "#convert a tuple to a string\n",
    "merges_in_string = [\"\".join(list(i)) for i in merges]\n",
    "print(\"BPE Merge Operations:\",merges_in_string)"
   ]
  },
  {
   "cell_type": "code",
   "execution_count": 257,
   "metadata": {},
   "outputs": [],
   "source": [
    "#applying BPE to OOV\n",
    "oov ='mera'\n",
    "\n",
    "#tokenize OOV into characters\n",
    "oov = \" \".join(list(oov))\n",
    "\n",
    "#append </w> \n",
    "oov = oov + ' </w>'\n",
    "\n",
    "#create a dictionary\n",
    "oov = { oov : 1}"
   ]
  },
  {
   "cell_type": "code",
   "execution_count": 258,
   "metadata": {
    "scrolled": true
   },
   "outputs": [
    {
     "name": "stdout",
     "output_type": "stream",
     "text": [
      "Iteration  1 me r a </w>\n",
      "\n",
      "BPE Completed...\n"
     ]
    }
   ],
   "source": [
    "i=0\n",
    "while(True):\n",
    "\n",
    "    #compute frequency\n",
    "    pairs = get_stats(oov)\n",
    "\n",
    "    #extract keys\n",
    "    pairs = pairs.keys()\n",
    "    \n",
    "    #find the pairs available in the learned operations\n",
    "    ind=[merges.index(i) for i in pairs if i in merges]\n",
    "\n",
    "    if(len(ind)==0):\n",
    "        print(\"\\nBPE Completed...\")\n",
    "        break\n",
    "    \n",
    "    #choose the most frequent learned operation\n",
    "    best = merges[min(ind)]\n",
    "    \n",
    "    #merge the best pair\n",
    "    oov = merge_vocab(best, oov)\n",
    "    \n",
    "    print(\"Iteration \",i+1, list(oov.keys())[0])\n",
    "    i=i+1"
   ]
  },
  {
   "cell_type": "code",
   "execution_count": null,
   "metadata": {},
   "outputs": [],
   "source": []
  },
  {
   "cell_type": "code",
   "execution_count": null,
   "metadata": {},
   "outputs": [],
   "source": []
  }
 ],
 "metadata": {
  "kernelspec": {
   "display_name": "Python 3",
   "language": "python",
   "name": "python3"
  },
  "language_info": {
   "codemirror_mode": {
    "name": "ipython",
    "version": 3
   },
   "file_extension": ".py",
   "mimetype": "text/x-python",
   "name": "python",
   "nbconvert_exporter": "python",
   "pygments_lexer": "ipython3",
   "version": "3.7.6"
  }
 },
 "nbformat": 4,
 "nbformat_minor": 4
}
